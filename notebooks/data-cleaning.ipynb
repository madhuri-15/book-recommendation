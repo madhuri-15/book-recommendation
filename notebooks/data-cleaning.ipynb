{
 "cells": [
  {
   "cell_type": "markdown",
   "id": "371e0e1a-40f3-4bed-b794-6e4ed3d686d1",
   "metadata": {},
   "source": [
    "# Data Cleaning\n"
   ]
  },
  {
   "cell_type": "code",
   "execution_count": 1,
   "id": "04e86206-5464-4680-8ef8-1f1de41ed717",
   "metadata": {},
   "outputs": [],
   "source": [
    "# Import libraries\n",
    "import re\n",
    "import pandas as pd\n",
    "import numpy as np\n",
    "\n",
    "# For data visualization\n",
    "import matplotlib.pyplot as plt\n",
    "import seaborn as sns\n",
    "%matplotlib inline\n",
    "\n",
    "# Plot settings\n",
    "plt.rcParams['figure.figsize'] = (7, 4)"
   ]
  },
  {
   "cell_type": "code",
   "execution_count": 2,
   "id": "92e563de-b265-470e-899d-940bc399b86f",
   "metadata": {},
   "outputs": [],
   "source": [
    "# Read data\n",
    "books = pd.read_csv(\"../data/raw/Books.csv\", encoding='latin-1', low_memory=False)\n",
    "ratings = pd.read_csv(\"../data/raw/Ratings.csv\", encoding='latin-1')\n",
    "users = pd.read_csv(\"../data/raw/Users.csv\", encoding='latin-1')"
   ]
  },
  {
   "cell_type": "code",
   "execution_count": 3,
   "id": "e72326c0-89cc-49a1-8905-c05c640ae3ab",
   "metadata": {},
   "outputs": [
    {
     "data": {
      "text/html": [
       "<div>\n",
       "<style scoped>\n",
       "    .dataframe tbody tr th:only-of-type {\n",
       "        vertical-align: middle;\n",
       "    }\n",
       "\n",
       "    .dataframe tbody tr th {\n",
       "        vertical-align: top;\n",
       "    }\n",
       "\n",
       "    .dataframe thead th {\n",
       "        text-align: right;\n",
       "    }\n",
       "</style>\n",
       "<table border=\"1\" class=\"dataframe\">\n",
       "  <thead>\n",
       "    <tr style=\"text-align: right;\">\n",
       "      <th></th>\n",
       "      <th>ISBN</th>\n",
       "      <th>Book-Title</th>\n",
       "      <th>Book-Author</th>\n",
       "      <th>Year-Of-Publication</th>\n",
       "      <th>Publisher</th>\n",
       "      <th>Image-URL-S</th>\n",
       "      <th>Image-URL-M</th>\n",
       "      <th>Image-URL-L</th>\n",
       "    </tr>\n",
       "  </thead>\n",
       "  <tbody>\n",
       "    <tr>\n",
       "      <th>0</th>\n",
       "      <td>0195153448</td>\n",
       "      <td>Classical Mythology</td>\n",
       "      <td>Mark P. O. Morford</td>\n",
       "      <td>2002</td>\n",
       "      <td>Oxford University Press</td>\n",
       "      <td>http://images.amazon.com/images/P/0195153448.0...</td>\n",
       "      <td>http://images.amazon.com/images/P/0195153448.0...</td>\n",
       "      <td>http://images.amazon.com/images/P/0195153448.0...</td>\n",
       "    </tr>\n",
       "    <tr>\n",
       "      <th>1</th>\n",
       "      <td>0002005018</td>\n",
       "      <td>Clara Callan</td>\n",
       "      <td>Richard Bruce Wright</td>\n",
       "      <td>2001</td>\n",
       "      <td>HarperFlamingo Canada</td>\n",
       "      <td>http://images.amazon.com/images/P/0002005018.0...</td>\n",
       "      <td>http://images.amazon.com/images/P/0002005018.0...</td>\n",
       "      <td>http://images.amazon.com/images/P/0002005018.0...</td>\n",
       "    </tr>\n",
       "    <tr>\n",
       "      <th>2</th>\n",
       "      <td>0060973129</td>\n",
       "      <td>Decision in Normandy</td>\n",
       "      <td>Carlo D'Este</td>\n",
       "      <td>1991</td>\n",
       "      <td>HarperPerennial</td>\n",
       "      <td>http://images.amazon.com/images/P/0060973129.0...</td>\n",
       "      <td>http://images.amazon.com/images/P/0060973129.0...</td>\n",
       "      <td>http://images.amazon.com/images/P/0060973129.0...</td>\n",
       "    </tr>\n",
       "    <tr>\n",
       "      <th>3</th>\n",
       "      <td>0374157065</td>\n",
       "      <td>Flu: The Story of the Great Influenza Pandemic...</td>\n",
       "      <td>Gina Bari Kolata</td>\n",
       "      <td>1999</td>\n",
       "      <td>Farrar Straus Giroux</td>\n",
       "      <td>http://images.amazon.com/images/P/0374157065.0...</td>\n",
       "      <td>http://images.amazon.com/images/P/0374157065.0...</td>\n",
       "      <td>http://images.amazon.com/images/P/0374157065.0...</td>\n",
       "    </tr>\n",
       "    <tr>\n",
       "      <th>4</th>\n",
       "      <td>0393045218</td>\n",
       "      <td>The Mummies of Urumchi</td>\n",
       "      <td>E. J. W. Barber</td>\n",
       "      <td>1999</td>\n",
       "      <td>W. W. Norton &amp;amp; Company</td>\n",
       "      <td>http://images.amazon.com/images/P/0393045218.0...</td>\n",
       "      <td>http://images.amazon.com/images/P/0393045218.0...</td>\n",
       "      <td>http://images.amazon.com/images/P/0393045218.0...</td>\n",
       "    </tr>\n",
       "  </tbody>\n",
       "</table>\n",
       "</div>"
      ],
      "text/plain": [
       "         ISBN                                         Book-Title  \\\n",
       "0  0195153448                                Classical Mythology   \n",
       "1  0002005018                                       Clara Callan   \n",
       "2  0060973129                               Decision in Normandy   \n",
       "3  0374157065  Flu: The Story of the Great Influenza Pandemic...   \n",
       "4  0393045218                             The Mummies of Urumchi   \n",
       "\n",
       "            Book-Author Year-Of-Publication                   Publisher  \\\n",
       "0    Mark P. O. Morford                2002     Oxford University Press   \n",
       "1  Richard Bruce Wright                2001       HarperFlamingo Canada   \n",
       "2          Carlo D'Este                1991             HarperPerennial   \n",
       "3      Gina Bari Kolata                1999        Farrar Straus Giroux   \n",
       "4       E. J. W. Barber                1999  W. W. Norton &amp; Company   \n",
       "\n",
       "                                         Image-URL-S  \\\n",
       "0  http://images.amazon.com/images/P/0195153448.0...   \n",
       "1  http://images.amazon.com/images/P/0002005018.0...   \n",
       "2  http://images.amazon.com/images/P/0060973129.0...   \n",
       "3  http://images.amazon.com/images/P/0374157065.0...   \n",
       "4  http://images.amazon.com/images/P/0393045218.0...   \n",
       "\n",
       "                                         Image-URL-M  \\\n",
       "0  http://images.amazon.com/images/P/0195153448.0...   \n",
       "1  http://images.amazon.com/images/P/0002005018.0...   \n",
       "2  http://images.amazon.com/images/P/0060973129.0...   \n",
       "3  http://images.amazon.com/images/P/0374157065.0...   \n",
       "4  http://images.amazon.com/images/P/0393045218.0...   \n",
       "\n",
       "                                         Image-URL-L  \n",
       "0  http://images.amazon.com/images/P/0195153448.0...  \n",
       "1  http://images.amazon.com/images/P/0002005018.0...  \n",
       "2  http://images.amazon.com/images/P/0060973129.0...  \n",
       "3  http://images.amazon.com/images/P/0374157065.0...  \n",
       "4  http://images.amazon.com/images/P/0393045218.0...  "
      ]
     },
     "execution_count": 3,
     "metadata": {},
     "output_type": "execute_result"
    }
   ],
   "source": [
    "# View\n",
    "books.head()"
   ]
  },
  {
   "cell_type": "code",
   "execution_count": 4,
   "id": "63b4f53b-f54c-4c20-93c2-a0fef1ee0920",
   "metadata": {},
   "outputs": [
    {
     "data": {
      "text/html": [
       "<div>\n",
       "<style scoped>\n",
       "    .dataframe tbody tr th:only-of-type {\n",
       "        vertical-align: middle;\n",
       "    }\n",
       "\n",
       "    .dataframe tbody tr th {\n",
       "        vertical-align: top;\n",
       "    }\n",
       "\n",
       "    .dataframe thead th {\n",
       "        text-align: right;\n",
       "    }\n",
       "</style>\n",
       "<table border=\"1\" class=\"dataframe\">\n",
       "  <thead>\n",
       "    <tr style=\"text-align: right;\">\n",
       "      <th></th>\n",
       "      <th>User-ID</th>\n",
       "      <th>ISBN</th>\n",
       "      <th>Book-Rating</th>\n",
       "    </tr>\n",
       "  </thead>\n",
       "  <tbody>\n",
       "    <tr>\n",
       "      <th>0</th>\n",
       "      <td>276725</td>\n",
       "      <td>034545104X</td>\n",
       "      <td>0</td>\n",
       "    </tr>\n",
       "    <tr>\n",
       "      <th>1</th>\n",
       "      <td>276726</td>\n",
       "      <td>0155061224</td>\n",
       "      <td>5</td>\n",
       "    </tr>\n",
       "    <tr>\n",
       "      <th>2</th>\n",
       "      <td>276727</td>\n",
       "      <td>0446520802</td>\n",
       "      <td>0</td>\n",
       "    </tr>\n",
       "    <tr>\n",
       "      <th>3</th>\n",
       "      <td>276729</td>\n",
       "      <td>052165615X</td>\n",
       "      <td>3</td>\n",
       "    </tr>\n",
       "    <tr>\n",
       "      <th>4</th>\n",
       "      <td>276729</td>\n",
       "      <td>0521795028</td>\n",
       "      <td>6</td>\n",
       "    </tr>\n",
       "  </tbody>\n",
       "</table>\n",
       "</div>"
      ],
      "text/plain": [
       "   User-ID        ISBN  Book-Rating\n",
       "0   276725  034545104X            0\n",
       "1   276726  0155061224            5\n",
       "2   276727  0446520802            0\n",
       "3   276729  052165615X            3\n",
       "4   276729  0521795028            6"
      ]
     },
     "execution_count": 4,
     "metadata": {},
     "output_type": "execute_result"
    }
   ],
   "source": [
    "# Rating dataset View\n",
    "ratings.head()"
   ]
  },
  {
   "cell_type": "code",
   "execution_count": 5,
   "id": "53116679-270e-4c3e-9d74-9860177bf9f9",
   "metadata": {},
   "outputs": [
    {
     "data": {
      "text/html": [
       "<div>\n",
       "<style scoped>\n",
       "    .dataframe tbody tr th:only-of-type {\n",
       "        vertical-align: middle;\n",
       "    }\n",
       "\n",
       "    .dataframe tbody tr th {\n",
       "        vertical-align: top;\n",
       "    }\n",
       "\n",
       "    .dataframe thead th {\n",
       "        text-align: right;\n",
       "    }\n",
       "</style>\n",
       "<table border=\"1\" class=\"dataframe\">\n",
       "  <thead>\n",
       "    <tr style=\"text-align: right;\">\n",
       "      <th></th>\n",
       "      <th>User-ID</th>\n",
       "      <th>Location</th>\n",
       "      <th>Age</th>\n",
       "    </tr>\n",
       "  </thead>\n",
       "  <tbody>\n",
       "    <tr>\n",
       "      <th>0</th>\n",
       "      <td>1</td>\n",
       "      <td>nyc, new york, usa</td>\n",
       "      <td>NaN</td>\n",
       "    </tr>\n",
       "    <tr>\n",
       "      <th>1</th>\n",
       "      <td>2</td>\n",
       "      <td>stockton, california, usa</td>\n",
       "      <td>18.0</td>\n",
       "    </tr>\n",
       "    <tr>\n",
       "      <th>2</th>\n",
       "      <td>3</td>\n",
       "      <td>moscow, yukon territory, russia</td>\n",
       "      <td>NaN</td>\n",
       "    </tr>\n",
       "    <tr>\n",
       "      <th>3</th>\n",
       "      <td>4</td>\n",
       "      <td>porto, v.n.gaia, portugal</td>\n",
       "      <td>17.0</td>\n",
       "    </tr>\n",
       "    <tr>\n",
       "      <th>4</th>\n",
       "      <td>5</td>\n",
       "      <td>farnborough, hants, united kingdom</td>\n",
       "      <td>NaN</td>\n",
       "    </tr>\n",
       "  </tbody>\n",
       "</table>\n",
       "</div>"
      ],
      "text/plain": [
       "   User-ID                            Location   Age\n",
       "0        1                  nyc, new york, usa   NaN\n",
       "1        2           stockton, california, usa  18.0\n",
       "2        3     moscow, yukon territory, russia   NaN\n",
       "3        4           porto, v.n.gaia, portugal  17.0\n",
       "4        5  farnborough, hants, united kingdom   NaN"
      ]
     },
     "execution_count": 5,
     "metadata": {},
     "output_type": "execute_result"
    }
   ],
   "source": [
    "# User dataset view\n",
    "users.head()"
   ]
  },
  {
   "cell_type": "code",
   "execution_count": 6,
   "id": "d9c44a50-d2f1-495d-b51b-4b18cf5edc3a",
   "metadata": {},
   "outputs": [
    {
     "name": "stdout",
     "output_type": "stream",
     "text": [
      "Books: (271360, 8)\n",
      "Ratings: (1149780, 3)\n",
      "Users: (278858, 3)\n"
     ]
    }
   ],
   "source": [
    "# Shape of the data sets\n",
    "print(\"Books:\", books.shape)\n",
    "print(\"Ratings:\", ratings.shape)\n",
    "print(\"Users:\", users.shape)"
   ]
  },
  {
   "cell_type": "code",
   "execution_count": 7,
   "id": "80ce012d-85cd-4695-aa40-fa73fec5223f",
   "metadata": {},
   "outputs": [],
   "source": [
    "# Rename the column names\n",
    "rename_columns = lambda x: x.rename(columns={col: col.replace('-', '_').lower() for col in x.columns})\n",
    "users = rename_columns(users)\n",
    "books = rename_columns(books)\n",
    "ratings = rename_columns(ratings)"
   ]
  },
  {
   "cell_type": "code",
   "execution_count": 8,
   "id": "a9a0011a-8d2d-4464-a1ec-be0ae07d335d",
   "metadata": {},
   "outputs": [
    {
     "name": "stdout",
     "output_type": "stream",
     "text": [
      "Number of duplicates in books dataset::  0\n",
      "Number of duplicates in users dataset::  0\n",
      "Number of duplicates in ratings dataset::  0\n"
     ]
    }
   ],
   "source": [
    "# Check for duplicates\n",
    "print(\"Number of duplicates in books dataset:: \", books.duplicated().sum())\n",
    "print(\"Number of duplicates in users dataset:: \", users.duplicated().sum())\n",
    "print(\"Number of duplicates in ratings dataset:: \", ratings.duplicated().sum())"
   ]
  },
  {
   "cell_type": "code",
   "execution_count": 9,
   "id": "3a18aaba-166e-4a1b-a9e1-03953812b24f",
   "metadata": {},
   "outputs": [
    {
     "data": {
      "text/plain": [
       "isbn                   0\n",
       "book_title             0\n",
       "book_author            2\n",
       "year_of_publication    0\n",
       "publisher              2\n",
       "image_url_s            0\n",
       "image_url_m            0\n",
       "image_url_l            3\n",
       "dtype: int64"
      ]
     },
     "execution_count": 9,
     "metadata": {},
     "output_type": "execute_result"
    }
   ],
   "source": [
    "# Number of missing values in books dataset.\n",
    "books.isnull().sum()"
   ]
  },
  {
   "cell_type": "code",
   "execution_count": 10,
   "id": "5cb9b5d6-a5c0-49eb-8e61-a1947b701711",
   "metadata": {},
   "outputs": [
    {
     "data": {
      "text/plain": [
       "(271360, 8)"
      ]
     },
     "execution_count": 10,
     "metadata": {},
     "output_type": "execute_result"
    }
   ],
   "source": [
    "# Remove missing values from the data\n",
    "books.shape"
   ]
  },
  {
   "cell_type": "markdown",
   "id": "8fd1e4b3-8a91-423e-97cf-300d87f582d4",
   "metadata": {},
   "source": [
    "### Data Preparation"
   ]
  },
  {
   "cell_type": "markdown",
   "id": "bb6e7503-a004-42e3-ba6b-6a77cb86363c",
   "metadata": {},
   "source": [
    "#### Check & Filter Data with Valid ISBN Number"
   ]
  },
  {
   "cell_type": "code",
   "execution_count": 11,
   "id": "b65712af-5509-4dda-9eda-6a7b12eaf549",
   "metadata": {},
   "outputs": [],
   "source": [
    "def is_valid_isbn(isbn_num):\n",
    "    isbn_num = re.sub(r'[^0-9]', '', isbn_num)\n",
    "    if len(isbn_num) in [10, 13]:\n",
    "        return isbn_num\n",
    "    else:\n",
    "        return np.nan"
   ]
  },
  {
   "cell_type": "code",
   "execution_count": 12,
   "id": "ef7bbe05-c96f-418c-8b3a-2c35a7aa58c4",
   "metadata": {},
   "outputs": [],
   "source": [
    "books['isbn'] = books['isbn'].apply(is_valid_isbn)\n",
    "book_df = books.dropna()"
   ]
  },
  {
   "cell_type": "code",
   "execution_count": 13,
   "id": "32d45f3a-e2b7-4f71-a545-5833f056977e",
   "metadata": {},
   "outputs": [
    {
     "name": "stdout",
     "output_type": "stream",
     "text": [
      "Number of Uniques in isbn = 249021\n",
      "Number of Uniques in book_title = 223881\n",
      "Number of Uniques in book_author = 96274\n",
      "Number of Uniques in year_of_publication = 111\n",
      "Number of Uniques in publisher = 15993\n",
      "Number of Uniques in image_url_m = 249021\n",
      "Number of Uniques in image_url_l = 249021\n"
     ]
    }
   ],
   "source": [
    "# Unique values in categorical variable.\n",
    "columns = ['isbn', \n",
    "           'book_title', \n",
    "           'book_author', \n",
    "           'year_of_publication', \n",
    "           'publisher',\n",
    "           'image_url_m',\n",
    "           'image_url_l']\n",
    "\n",
    "book_df = book_df[columns].copy()\n",
    "for col in columns:\n",
    "    print(f\"Number of Uniques in {col} = {book_df[col].nunique()}\")"
   ]
  },
  {
   "cell_type": "markdown",
   "id": "71421d3e-3886-4b74-be4d-81ef08344fad",
   "metadata": {},
   "source": [
    "ISBN is a Unique indentifier for books, it must be same as number of book title."
   ]
  },
  {
   "cell_type": "code",
   "execution_count": 14,
   "id": "e0835cfa-b762-4945-9bfd-da7110d0dcd3",
   "metadata": {},
   "outputs": [
    {
     "data": {
      "text/html": [
       "<div>\n",
       "<style scoped>\n",
       "    .dataframe tbody tr th:only-of-type {\n",
       "        vertical-align: middle;\n",
       "    }\n",
       "\n",
       "    .dataframe tbody tr th {\n",
       "        vertical-align: top;\n",
       "    }\n",
       "\n",
       "    .dataframe thead th {\n",
       "        text-align: right;\n",
       "    }\n",
       "</style>\n",
       "<table border=\"1\" class=\"dataframe\">\n",
       "  <thead>\n",
       "    <tr style=\"text-align: right;\">\n",
       "      <th></th>\n",
       "      <th>isbn</th>\n",
       "      <th>book_title</th>\n",
       "      <th>book_author</th>\n",
       "      <th>year_of_publication</th>\n",
       "      <th>publisher</th>\n",
       "      <th>image_url_m</th>\n",
       "      <th>image_url_l</th>\n",
       "    </tr>\n",
       "  </thead>\n",
       "  <tbody>\n",
       "    <tr>\n",
       "      <th>0</th>\n",
       "      <td>0195153448</td>\n",
       "      <td>Classical Mythology</td>\n",
       "      <td>Mark P. O. Morford</td>\n",
       "      <td>2002</td>\n",
       "      <td>Oxford University Press</td>\n",
       "      <td>http://images.amazon.com/images/P/0195153448.0...</td>\n",
       "      <td>http://images.amazon.com/images/P/0195153448.0...</td>\n",
       "    </tr>\n",
       "    <tr>\n",
       "      <th>95231</th>\n",
       "      <td>0801319536</td>\n",
       "      <td>Classical Mythology</td>\n",
       "      <td>Mark P. O. Morford</td>\n",
       "      <td>1998</td>\n",
       "      <td>John Wiley &amp;amp; Sons</td>\n",
       "      <td>http://images.amazon.com/images/P/0801319536.0...</td>\n",
       "      <td>http://images.amazon.com/images/P/0801319536.0...</td>\n",
       "    </tr>\n",
       "  </tbody>\n",
       "</table>\n",
       "</div>"
      ],
      "text/plain": [
       "             isbn           book_title         book_author  \\\n",
       "0      0195153448  Classical Mythology  Mark P. O. Morford   \n",
       "95231  0801319536  Classical Mythology  Mark P. O. Morford   \n",
       "\n",
       "      year_of_publication                publisher  \\\n",
       "0                    2002  Oxford University Press   \n",
       "95231                1998    John Wiley &amp; Sons   \n",
       "\n",
       "                                             image_url_m  \\\n",
       "0      http://images.amazon.com/images/P/0195153448.0...   \n",
       "95231  http://images.amazon.com/images/P/0801319536.0...   \n",
       "\n",
       "                                             image_url_l  \n",
       "0      http://images.amazon.com/images/P/0195153448.0...  \n",
       "95231  http://images.amazon.com/images/P/0801319536.0...  "
      ]
     },
     "execution_count": 14,
     "metadata": {},
     "output_type": "execute_result"
    }
   ],
   "source": [
    "# Check the ISBN for book 'Classical Mythology'\n",
    "book_df[book_df['book_title'] == \"Classical Mythology\"]"
   ]
  },
  {
   "cell_type": "markdown",
   "id": "4ebcba53-2c24-4b07-a459-5192a78a214b",
   "metadata": {},
   "source": [
    "- *There are two ISBN Numbers for the 'Classical Mytholoy' book title based on edition.*\n",
    "- *New edition of a book is considered as a new product, so different editions of each book have a different unique ISBN Number.*\n",
    "- *Their are various books in dataset that might have a different ISBN Numbers.*\n",
    "- *In order to recommend readers with most updated and relevant content, let's consider only latest edition of the book.*"
   ]
  },
  {
   "cell_type": "code",
   "execution_count": 15,
   "id": "929d2b12-7f48-4444-8a5c-e149ae771287",
   "metadata": {},
   "outputs": [
    {
     "data": {
      "text/html": [
       "<div>\n",
       "<style scoped>\n",
       "    .dataframe tbody tr th:only-of-type {\n",
       "        vertical-align: middle;\n",
       "    }\n",
       "\n",
       "    .dataframe tbody tr th {\n",
       "        vertical-align: top;\n",
       "    }\n",
       "\n",
       "    .dataframe thead th {\n",
       "        text-align: right;\n",
       "    }\n",
       "</style>\n",
       "<table border=\"1\" class=\"dataframe\">\n",
       "  <thead>\n",
       "    <tr style=\"text-align: right;\">\n",
       "      <th></th>\n",
       "      <th>isbn</th>\n",
       "      <th>book_title</th>\n",
       "      <th>book_author</th>\n",
       "      <th>year_of_publication</th>\n",
       "      <th>publisher</th>\n",
       "      <th>image_url_m</th>\n",
       "      <th>image_url_l</th>\n",
       "    </tr>\n",
       "  </thead>\n",
       "  <tbody>\n",
       "    <tr>\n",
       "      <th>97826</th>\n",
       "      <td>0140201092</td>\n",
       "      <td>Outline of European Architecture (Pelican S.)</td>\n",
       "      <td>Nikolaus Pevsner</td>\n",
       "      <td>2050</td>\n",
       "      <td>Penguin USA</td>\n",
       "      <td>http://images.amazon.com/images/P/0140201092.0...</td>\n",
       "      <td>http://images.amazon.com/images/P/0140201092.0...</td>\n",
       "    </tr>\n",
       "    <tr>\n",
       "      <th>80264</th>\n",
       "      <td>0140301690</td>\n",
       "      <td>Alice's Adventures in Wonderland and Through t...</td>\n",
       "      <td>Lewis Carroll</td>\n",
       "      <td>2050</td>\n",
       "      <td>Puffin Books</td>\n",
       "      <td>http://images.amazon.com/images/P/0140301690.0...</td>\n",
       "      <td>http://images.amazon.com/images/P/0140301690.0...</td>\n",
       "    </tr>\n",
       "    <tr>\n",
       "      <th>116053</th>\n",
       "      <td>0394701658</td>\n",
       "      <td>Three Plays of Eugene Oneill</td>\n",
       "      <td>Eugene O'Neill</td>\n",
       "      <td>2038</td>\n",
       "      <td>Vintage Books USA</td>\n",
       "      <td>http://images.amazon.com/images/P/0394701658.0...</td>\n",
       "      <td>http://images.amazon.com/images/P/0394701658.0...</td>\n",
       "    </tr>\n",
       "    <tr>\n",
       "      <th>37487</th>\n",
       "      <td>0671746103</td>\n",
       "      <td>MY TEACHER FRIED MY BRAINS (RACK SIZE) (MY TEA...</td>\n",
       "      <td>Coville</td>\n",
       "      <td>2030</td>\n",
       "      <td>Aladdin</td>\n",
       "      <td>http://images.amazon.com/images/P/0671746103.0...</td>\n",
       "      <td>http://images.amazon.com/images/P/0671746103.0...</td>\n",
       "    </tr>\n",
       "    <tr>\n",
       "      <th>55676</th>\n",
       "      <td>0671791990</td>\n",
       "      <td>MY TEACHER FLUNKED THE PLANET (RACK SIZE) (MY ...</td>\n",
       "      <td>Bruce Coville</td>\n",
       "      <td>2030</td>\n",
       "      <td>Aladdin</td>\n",
       "      <td>http://images.amazon.com/images/P/0671791990.0...</td>\n",
       "      <td>http://images.amazon.com/images/P/0671791990.0...</td>\n",
       "    </tr>\n",
       "    <tr>\n",
       "      <th>...</th>\n",
       "      <td>...</td>\n",
       "      <td>...</td>\n",
       "      <td>...</td>\n",
       "      <td>...</td>\n",
       "      <td>...</td>\n",
       "      <td>...</td>\n",
       "      <td>...</td>\n",
       "    </tr>\n",
       "    <tr>\n",
       "      <th>85641</th>\n",
       "      <td>0718142888</td>\n",
       "      <td>10 Lb Penalty</td>\n",
       "      <td>Dick Francis</td>\n",
       "      <td>0</td>\n",
       "      <td>Michael Joseph Ltd</td>\n",
       "      <td>http://images.amazon.com/images/P/0718142888.0...</td>\n",
       "      <td>http://images.amazon.com/images/P/0718142888.0...</td>\n",
       "    </tr>\n",
       "    <tr>\n",
       "      <th>81110</th>\n",
       "      <td>3442013453</td>\n",
       "      <td>08/15 Heute</td>\n",
       "      <td>Kirst</td>\n",
       "      <td>0</td>\n",
       "      <td>Wilhelm Goldmann Verlag GmbH</td>\n",
       "      <td>http://images.amazon.com/images/P/3442013453.0...</td>\n",
       "      <td>http://images.amazon.com/images/P/3442013453.0...</td>\n",
       "    </tr>\n",
       "    <tr>\n",
       "      <th>51958</th>\n",
       "      <td>2266022253</td>\n",
       "      <td>006781: Bk.1 Gags De Boule Et Bil</td>\n",
       "      <td>ROBA</td>\n",
       "      <td>0</td>\n",
       "      <td>Pocket</td>\n",
       "      <td>http://images.amazon.com/images/P/2266022253.0...</td>\n",
       "      <td>http://images.amazon.com/images/P/2266022253.0...</td>\n",
       "    </tr>\n",
       "    <tr>\n",
       "      <th>78643</th>\n",
       "      <td>0941925196</td>\n",
       "      <td>'California Historical Landmarks'</td>\n",
       "      <td>California State Parks Office of Historic Pres...</td>\n",
       "      <td>0</td>\n",
       "      <td>California Dept Parks &amp;amp;</td>\n",
       "      <td>http://images.amazon.com/images/P/0941925196.0...</td>\n",
       "      <td>http://images.amazon.com/images/P/0941925196.0...</td>\n",
       "    </tr>\n",
       "    <tr>\n",
       "      <th>266156</th>\n",
       "      <td>0754004988</td>\n",
       "      <td>' Tis</td>\n",
       "      <td>Frank McCourt</td>\n",
       "      <td>0</td>\n",
       "      <td>Chivers Press Ltd</td>\n",
       "      <td>http://images.amazon.com/images/P/0754004988.0...</td>\n",
       "      <td>http://images.amazon.com/images/P/0754004988.0...</td>\n",
       "    </tr>\n",
       "  </tbody>\n",
       "</table>\n",
       "<p>249022 rows × 7 columns</p>\n",
       "</div>"
      ],
      "text/plain": [
       "              isbn                                         book_title  \\\n",
       "97826   0140201092      Outline of European Architecture (Pelican S.)   \n",
       "80264   0140301690  Alice's Adventures in Wonderland and Through t...   \n",
       "116053  0394701658                       Three Plays of Eugene Oneill   \n",
       "37487   0671746103  MY TEACHER FRIED MY BRAINS (RACK SIZE) (MY TEA...   \n",
       "55676   0671791990  MY TEACHER FLUNKED THE PLANET (RACK SIZE) (MY ...   \n",
       "...            ...                                                ...   \n",
       "85641   0718142888                                      10 Lb Penalty   \n",
       "81110   3442013453                                        08/15 Heute   \n",
       "51958   2266022253                  006781: Bk.1 Gags De Boule Et Bil   \n",
       "78643   0941925196                  'California Historical Landmarks'   \n",
       "266156  0754004988                                              ' Tis   \n",
       "\n",
       "                                              book_author year_of_publication  \\\n",
       "97826                                    Nikolaus Pevsner                2050   \n",
       "80264                                       Lewis Carroll                2050   \n",
       "116053                                     Eugene O'Neill                2038   \n",
       "37487                                             Coville                2030   \n",
       "55676                                       Bruce Coville                2030   \n",
       "...                                                   ...                 ...   \n",
       "85641                                        Dick Francis                   0   \n",
       "81110                                               Kirst                   0   \n",
       "51958                                                ROBA                   0   \n",
       "78643   California State Parks Office of Historic Pres...                   0   \n",
       "266156                                      Frank McCourt                   0   \n",
       "\n",
       "                           publisher  \\\n",
       "97826                    Penguin USA   \n",
       "80264                   Puffin Books   \n",
       "116053             Vintage Books USA   \n",
       "37487                        Aladdin   \n",
       "55676                        Aladdin   \n",
       "...                              ...   \n",
       "85641             Michael Joseph Ltd   \n",
       "81110   Wilhelm Goldmann Verlag GmbH   \n",
       "51958                         Pocket   \n",
       "78643    California Dept Parks &amp;   \n",
       "266156             Chivers Press Ltd   \n",
       "\n",
       "                                              image_url_m  \\\n",
       "97826   http://images.amazon.com/images/P/0140201092.0...   \n",
       "80264   http://images.amazon.com/images/P/0140301690.0...   \n",
       "116053  http://images.amazon.com/images/P/0394701658.0...   \n",
       "37487   http://images.amazon.com/images/P/0671746103.0...   \n",
       "55676   http://images.amazon.com/images/P/0671791990.0...   \n",
       "...                                                   ...   \n",
       "85641   http://images.amazon.com/images/P/0718142888.0...   \n",
       "81110   http://images.amazon.com/images/P/3442013453.0...   \n",
       "51958   http://images.amazon.com/images/P/2266022253.0...   \n",
       "78643   http://images.amazon.com/images/P/0941925196.0...   \n",
       "266156  http://images.amazon.com/images/P/0754004988.0...   \n",
       "\n",
       "                                              image_url_l  \n",
       "97826   http://images.amazon.com/images/P/0140201092.0...  \n",
       "80264   http://images.amazon.com/images/P/0140301690.0...  \n",
       "116053  http://images.amazon.com/images/P/0394701658.0...  \n",
       "37487   http://images.amazon.com/images/P/0671746103.0...  \n",
       "55676   http://images.amazon.com/images/P/0671791990.0...  \n",
       "...                                                   ...  \n",
       "85641   http://images.amazon.com/images/P/0718142888.0...  \n",
       "81110   http://images.amazon.com/images/P/3442013453.0...  \n",
       "51958   http://images.amazon.com/images/P/2266022253.0...  \n",
       "78643   http://images.amazon.com/images/P/0941925196.0...  \n",
       "266156  http://images.amazon.com/images/P/0754004988.0...  \n",
       "\n",
       "[249022 rows x 7 columns]"
      ]
     },
     "execution_count": 15,
     "metadata": {},
     "output_type": "execute_result"
    }
   ],
   "source": [
    "# Filter data based on Year of publication and book title\n",
    "book_df.sort_values(by=['year_of_publication', 'book_title'], ascending=False)"
   ]
  },
  {
   "cell_type": "markdown",
   "id": "de88c3f5-8284-45e4-9d4a-5581d950ae9b",
   "metadata": {},
   "source": [
    "- *Data is not assigned properly to each columns.*\n",
    "- *Notice, the year of publication for some books it is 2037, 2038 and 2030. We must consider the books with year of publication until 2024. Let's check in detail each columns.*"
   ]
  },
  {
   "cell_type": "code",
   "execution_count": 16,
   "id": "51095dc2-2610-4cab-b014-6e7ce815a1fb",
   "metadata": {},
   "outputs": [
    {
     "data": {
      "text/plain": [
       "array(['2002', '2001', '1991', '1999', '2000', '1993', '1996', '1988',\n",
       "       '2004', '1998', '1994', '2003', '1997', '1995', '1982', '1985',\n",
       "       '1992', '1986', '1978', '1980', '1983', '1952', '1987', '1981',\n",
       "       '1990', '1989', '1984', '0', '1968', '1961', '1958', '1974',\n",
       "       '1976', '1971', '1977', '1975', '1965', '1941', '1970', '1962',\n",
       "       '1972', '1960', '1979', '1966', '1920', '1973', '1956', '1959',\n",
       "       '1953', '1951', '1942', '1963', '1964', '1969', '1950', '1967',\n",
       "       '2005', '1957', '1937', '1955', '1954', '1946', '1930', '2011',\n",
       "       '1925', '1948', '1943', '1947', '1923', '1939', '1926', '1938',\n",
       "       '2030', '1940', '1911', '1949', '1932', '1928', '1929', '1945',\n",
       "       '1927', '1936', '1931', '1914', '2050', '1934', '1910', '1933',\n",
       "       '1902', '1924', '1921', '2038', '2026', '1944', '1917', '1901',\n",
       "       '2010', '1908', '1906', '1935', '1806', '2021', '2012', '2006',\n",
       "       '1900', '1909', '1378', '1919', '1922', '1897', '2024'],\n",
       "      dtype=object)"
      ]
     },
     "execution_count": 16,
     "metadata": {},
     "output_type": "execute_result"
    }
   ],
   "source": [
    "# Uniuqe valus in categorical data.\n",
    "book_df['year_of_publication'].unique()"
   ]
  },
  {
   "cell_type": "markdown",
   "id": "3050db66-b413-41aa-a6bc-a1985b56ba4d",
   "metadata": {},
   "source": [
    "- *There are some years indicating arbitrary value or may be missing such as 0, or 1378.*\n",
    "- *Let's consider only books publised upto 2024*"
   ]
  },
  {
   "cell_type": "code",
   "execution_count": 17,
   "id": "5bf1b6c8-acd8-43ea-9924-8e23128e9573",
   "metadata": {},
   "outputs": [],
   "source": [
    "# Filter data\n",
    "book_df = book_df[book_df['year_of_publication'].str.isnumeric()]\n",
    "\n",
    "book_df['year_of_publication'] = book_df['year_of_publication'].astype(int)\n",
    "book_df = book_df[book_df.year_of_publication <= 2024]"
   ]
  },
  {
   "cell_type": "code",
   "execution_count": 18,
   "id": "4370278e-e5e7-44ad-a4ac-495d0ad68146",
   "metadata": {},
   "outputs": [
    {
     "data": {
      "text/plain": [
       "(249011, 7)"
      ]
     },
     "execution_count": 18,
     "metadata": {},
     "output_type": "execute_result"
    }
   ],
   "source": [
    "book_df.shape"
   ]
  },
  {
   "cell_type": "markdown",
   "id": "e790d1b1-a7da-489d-89c6-79c900db5e2d",
   "metadata": {},
   "source": [
    "### Ratings"
   ]
  },
  {
   "cell_type": "code",
   "execution_count": 19,
   "id": "1ac91c57-00ba-4565-bc45-5576dea69cce",
   "metadata": {},
   "outputs": [],
   "source": [
    "# Check for valid ISBN number.\n",
    "ratings['isbn'] = ratings.isbn.apply(is_valid_isbn)\n",
    "ratings = ratings.dropna()"
   ]
  },
  {
   "cell_type": "code",
   "execution_count": 20,
   "id": "31fee3a4-0d67-4bfe-b853-3bbeb174e2e6",
   "metadata": {},
   "outputs": [
    {
     "data": {
      "image/png": "[encoded data removed]",
      "text/plain": [
       "<Figure size 700x400 with 1 Axes>"
      ]
     },
     "metadata": {},
     "output_type": "display_data"
    }
   ],
   "source": [
    "# Examine the distribution of book-ratings\n",
    "plt.hist(ratings.book_rating)\n",
    "\n",
    "plt.title(\"Distribution of Book Rating\")\n",
    "plt.xlabel(\"Rating\")\n",
    "plt.ylabel(\"Count\")\n",
    "\n",
    "plt.grid(ls=\"--\", color=\"#555\", alpha=0.5)\n",
    "plt.show()"
   ]
  },
  {
   "cell_type": "markdown",
   "id": "5ed09145-98d2-4b83-ba49-89eb49300696",
   "metadata": {},
   "source": [
    "- *The highest peak at 0 represent users without rating, it is significantly larger than the actual users who rate the books.*"
   ]
  },
  {
   "cell_type": "code",
   "execution_count": 21,
   "id": "0bcdde6b-36fa-4862-b7e8-ed590a848fb2",
   "metadata": {},
   "outputs": [
    {
     "data": {
      "text/plain": [
       "(394403, 3)"
      ]
     },
     "execution_count": 21,
     "metadata": {},
     "output_type": "execute_result"
    }
   ],
   "source": [
    "# Remove users with zero book ratings from rating datasets.\n",
    "final_ratings = ratings[ratings.book_rating > 0].copy()\n",
    "final_ratings.shape"
   ]
  },
  {
   "cell_type": "code",
   "execution_count": 22,
   "id": "87e55b6f-b733-4dab-9480-15af31ba58da",
   "metadata": {},
   "outputs": [
    {
     "data": {
      "image/png": "[encoded data removed]",
      "text/plain": [
       "<Figure size 700x400 with 1 Axes>"
      ]
     },
     "metadata": {},
     "output_type": "display_data"
    }
   ],
   "source": [
    "# Distribution of book-ratings after removing zero ratings\n",
    "plt.hist(final_ratings.book_rating)\n",
    "\n",
    "plt.title(\"Distribution of book ratings after removing zero rating users\", size=11)\n",
    "plt.xlabel(\"Rating\")\n",
    "plt.ylabel(\"Count\")\n",
    "\n",
    "plt.grid(ls=\"--\", color=\"#555\", alpha=0.5)\n",
    "plt.show()"
   ]
  },
  {
   "cell_type": "markdown",
   "id": "a5855f01-86b8-468f-9ca9-ee28ca4b7524",
   "metadata": {},
   "source": [
    "- *The distribution is left skewed, meaning the dataset contains large number of books with higher ratings between the 7-9 ratings.*"
   ]
  },
  {
   "cell_type": "code",
   "execution_count": 23,
   "id": "2e5d0cc9-e903-42ab-9a95-1a209f84305a",
   "metadata": {},
   "outputs": [
    {
     "data": {
      "text/plain": [
       "user_id        0\n",
       "isbn           0\n",
       "book_rating    0\n",
       "dtype: int64"
      ]
     },
     "execution_count": 23,
     "metadata": {},
     "output_type": "execute_result"
    }
   ],
   "source": [
    "# Check for missing values\n",
    "final_ratings.isnull().sum()"
   ]
  },
  {
   "cell_type": "code",
   "execution_count": 24,
   "id": "57606061-c9f6-4434-b554-7a46a9247154",
   "metadata": {},
   "outputs": [
    {
     "data": {
      "text/plain": [
       "np.int64(4)"
      ]
     },
     "execution_count": 24,
     "metadata": {},
     "output_type": "execute_result"
    }
   ],
   "source": [
    "# Check for duplicates\n",
    "final_ratings.duplicated().sum()"
   ]
  },
  {
   "cell_type": "code",
   "execution_count": 25,
   "id": "b35d9635-18e8-4416-a482-84e70bc2bad5",
   "metadata": {},
   "outputs": [],
   "source": [
    "# Drop the duplicates\n",
    "final_ratings = final_ratings.drop_duplicates()"
   ]
  },
  {
   "cell_type": "code",
   "execution_count": 26,
   "id": "aef5453c-6241-40fa-8b93-2a3e7b99c5ed",
   "metadata": {},
   "outputs": [],
   "source": [
    "# Save dataset\n",
    "final_ratings.to_csv(\"../data/process_data/ratings_df.csv\", index=False)"
   ]
  },
  {
   "cell_type": "markdown",
   "id": "b2fe097b-33f1-46b4-9801-c729d803beb1",
   "metadata": {},
   "source": [
    "#### Average Book Ratings"
   ]
  },
  {
   "cell_type": "code",
   "execution_count": 27,
   "id": "d6fe4a1d-ae5b-453f-ba0f-e13d3537f4c3",
   "metadata": {},
   "outputs": [
    {
     "data": {
      "text/html": [
       "<div>\n",
       "<style scoped>\n",
       "    .dataframe tbody tr th:only-of-type {\n",
       "        vertical-align: middle;\n",
       "    }\n",
       "\n",
       "    .dataframe tbody tr th {\n",
       "        vertical-align: top;\n",
       "    }\n",
       "\n",
       "    .dataframe thead th {\n",
       "        text-align: right;\n",
       "    }\n",
       "</style>\n",
       "<table border=\"1\" class=\"dataframe\">\n",
       "  <thead>\n",
       "    <tr style=\"text-align: right;\">\n",
       "      <th></th>\n",
       "      <th>isbn</th>\n",
       "      <th>book_title</th>\n",
       "      <th>book_author</th>\n",
       "      <th>year_of_publication</th>\n",
       "      <th>publisher</th>\n",
       "      <th>image_url_m</th>\n",
       "      <th>image_url_l</th>\n",
       "      <th>n_votes</th>\n",
       "      <th>total_rating</th>\n",
       "      <th>avg_rating</th>\n",
       "    </tr>\n",
       "  </thead>\n",
       "  <tbody>\n",
       "    <tr>\n",
       "      <th>0</th>\n",
       "      <td>0002005018</td>\n",
       "      <td>Clara Callan</td>\n",
       "      <td>Richard Bruce Wright</td>\n",
       "      <td>2001</td>\n",
       "      <td>HarperFlamingo Canada</td>\n",
       "      <td>http://images.amazon.com/images/P/0002005018.0...</td>\n",
       "      <td>http://images.amazon.com/images/P/0002005018.0...</td>\n",
       "      <td>9</td>\n",
       "      <td>69</td>\n",
       "      <td>7.666667</td>\n",
       "    </tr>\n",
       "    <tr>\n",
       "      <th>1</th>\n",
       "      <td>0060973129</td>\n",
       "      <td>Decision in Normandy</td>\n",
       "      <td>Carlo D'Este</td>\n",
       "      <td>1991</td>\n",
       "      <td>HarperPerennial</td>\n",
       "      <td>http://images.amazon.com/images/P/0060973129.0...</td>\n",
       "      <td>http://images.amazon.com/images/P/0060973129.0...</td>\n",
       "      <td>2</td>\n",
       "      <td>15</td>\n",
       "      <td>7.500000</td>\n",
       "    </tr>\n",
       "    <tr>\n",
       "      <th>2</th>\n",
       "      <td>0374157065</td>\n",
       "      <td>Flu: The Story of the Great Influenza Pandemic...</td>\n",
       "      <td>Gina Bari Kolata</td>\n",
       "      <td>1999</td>\n",
       "      <td>Farrar Straus Giroux</td>\n",
       "      <td>http://images.amazon.com/images/P/0374157065.0...</td>\n",
       "      <td>http://images.amazon.com/images/P/0374157065.0...</td>\n",
       "      <td>6</td>\n",
       "      <td>47</td>\n",
       "      <td>7.833333</td>\n",
       "    </tr>\n",
       "    <tr>\n",
       "      <th>3</th>\n",
       "      <td>0399135782</td>\n",
       "      <td>The Kitchen God's Wife</td>\n",
       "      <td>Amy Tan</td>\n",
       "      <td>1991</td>\n",
       "      <td>Putnam Pub Group</td>\n",
       "      <td>http://images.amazon.com/images/P/0399135782.0...</td>\n",
       "      <td>http://images.amazon.com/images/P/0399135782.0...</td>\n",
       "      <td>17</td>\n",
       "      <td>139</td>\n",
       "      <td>8.176471</td>\n",
       "    </tr>\n",
       "    <tr>\n",
       "      <th>4</th>\n",
       "      <td>0425176428</td>\n",
       "      <td>What If?: The World's Foremost Military Histor...</td>\n",
       "      <td>Robert Cowley</td>\n",
       "      <td>2000</td>\n",
       "      <td>Berkley Publishing Group</td>\n",
       "      <td>http://images.amazon.com/images/P/0425176428.0...</td>\n",
       "      <td>http://images.amazon.com/images/P/0425176428.0...</td>\n",
       "      <td>1</td>\n",
       "      <td>8</td>\n",
       "      <td>8.000000</td>\n",
       "    </tr>\n",
       "  </tbody>\n",
       "</table>\n",
       "</div>"
      ],
      "text/plain": [
       "         isbn                                         book_title  \\\n",
       "0  0002005018                                       Clara Callan   \n",
       "1  0060973129                               Decision in Normandy   \n",
       "2  0374157065  Flu: The Story of the Great Influenza Pandemic...   \n",
       "3  0399135782                             The Kitchen God's Wife   \n",
       "4  0425176428  What If?: The World's Foremost Military Histor...   \n",
       "\n",
       "            book_author  year_of_publication                 publisher  \\\n",
       "0  Richard Bruce Wright                 2001     HarperFlamingo Canada   \n",
       "1          Carlo D'Este                 1991           HarperPerennial   \n",
       "2      Gina Bari Kolata                 1999      Farrar Straus Giroux   \n",
       "3               Amy Tan                 1991          Putnam Pub Group   \n",
       "4         Robert Cowley                 2000  Berkley Publishing Group   \n",
       "\n",
       "                                         image_url_m  \\\n",
       "0  http://images.amazon.com/images/P/0002005018.0...   \n",
       "1  http://images.amazon.com/images/P/0060973129.0...   \n",
       "2  http://images.amazon.com/images/P/0374157065.0...   \n",
       "3  http://images.amazon.com/images/P/0399135782.0...   \n",
       "4  http://images.amazon.com/images/P/0425176428.0...   \n",
       "\n",
       "                                         image_url_l  n_votes  total_rating  \\\n",
       "0  http://images.amazon.com/images/P/0002005018.0...        9            69   \n",
       "1  http://images.amazon.com/images/P/0060973129.0...        2            15   \n",
       "2  http://images.amazon.com/images/P/0374157065.0...        6            47   \n",
       "3  http://images.amazon.com/images/P/0399135782.0...       17           139   \n",
       "4  http://images.amazon.com/images/P/0425176428.0...        1             8   \n",
       "\n",
       "   avg_rating  \n",
       "0    7.666667  \n",
       "1    7.500000  \n",
       "2    7.833333  \n",
       "3    8.176471  \n",
       "4    8.000000  "
      ]
     },
     "execution_count": 27,
     "metadata": {},
     "output_type": "execute_result"
    }
   ],
   "source": [
    "# Calcuate total votes and average ratings\n",
    "book_ratings = final_ratings.groupby(by=['isbn'])['book_rating'].aggregate(['count','sum', 'mean']).reset_index()\n",
    "book_ratings.rename(columns={'count': 'n_votes', 'sum':'total_rating', 'mean': 'avg_rating'}, inplace=True)\n",
    "\n",
    "book_df = book_df.merge(book_ratings, on='isbn')\n",
    "book_df.head()"
   ]
  },
  {
   "cell_type": "markdown",
   "id": "6ea27254-922c-4f8e-829e-e118aeb898ca",
   "metadata": {},
   "source": [
    "### Standardize Text"
   ]
  },
  {
   "cell_type": "markdown",
   "id": "8d1433f3-79bc-4a8e-84db-3546e81b18b1",
   "metadata": {},
   "source": [
    "#### Book Author Names"
   ]
  },
  {
   "cell_type": "code",
   "execution_count": 28,
   "id": "9054daef-2db6-429d-8cec-9d34b842d8a8",
   "metadata": {},
   "outputs": [],
   "source": [
    "# Clean author names\n",
    "book_df['book_author'] = book_df['book_author'].str.lower()\n",
    "\n",
    "# Remove all other characters except the alphabets.\n",
    "book_df['book_author'] = book_df['book_author'].apply(lambda x: re.sub(r'[^a-zA-Z\\s]', ' ', x))\n",
    "\n",
    "# Replace extra spaces\n",
    "book_df['book_author'] = book_df['book_author'].apply(lambda x: re.sub(r'\\s+', ' ', x))\n",
    "book_df['book_author'] = book_df['book_author'].str.strip()"
   ]
  },
  {
   "cell_type": "code",
   "execution_count": 29,
   "id": "69d5362a-624f-4c36-bb3f-c6bfd5bc5f39",
   "metadata": {},
   "outputs": [],
   "source": [
    "# Filter out names that likely aren't authors based on keywords, initial patterns, or formatting.\n",
    "# Non-author indicators might include terms like \"Inc\", \"Ltd\", \"Collection\", \"Publishing\" etc.\n",
    "# Define keywords to filter out non-author entries.\n",
    "non_author_keywords = [\"ltd\", \"inc\", \"collection\", \"press\", \"network\", \"industry\", \"academy\", \"team\", \"group\", \n",
    "                       \"guides\", \"publishing\", \"travel\", \"society\", \"association\", \"library\", \"magazine\", \"media\",\n",
    "                       \"committee\", \"corporation\", \"organization\", \"international\", \"foundation\", \"series\", \"collection\", \n",
    "                       \"na\", \"not\"]\n",
    "\n",
    "# Function to determine if a name contains non-author keywords\n",
    "def is_non_author(name):\n",
    "    return any(keyword in name.lower().split() for keyword in non_author_keywords)\n",
    "\n",
    "# Apply filtering\n",
    "filtered_book_df = book_df[~book_df.book_author.apply(is_non_author)].copy()"
   ]
  },
  {
   "cell_type": "code",
   "execution_count": 30,
   "id": "87b30221-6b2e-48f0-a8ab-29ef8beb906c",
   "metadata": {},
   "outputs": [
    {
     "name": "stdout",
     "output_type": "stream",
     "text": [
      "Before filtering:: (137724, 10)\n",
      "After filtering:: (136935, 10)\n"
     ]
    }
   ],
   "source": [
    "print(\"Before filtering::\", book_df.shape)\n",
    "print(\"After filtering::\", filtered_book_df.shape)"
   ]
  },
  {
   "cell_type": "code",
   "execution_count": 31,
   "id": "0e36c859-8da6-43ea-b0fd-75fbceea9cf6",
   "metadata": {},
   "outputs": [
    {
     "name": "stdout",
     "output_type": "stream",
     "text": [
      "Number of authors:: 55685\n"
     ]
    }
   ],
   "source": [
    "print(\"Number of authors::\", filtered_book_df.book_author.nunique())"
   ]
  },
  {
   "cell_type": "markdown",
   "id": "5fc8a41a-ccd7-47e2-99ba-845a61f81195",
   "metadata": {},
   "source": [
    "#### Book Titles"
   ]
  },
  {
   "cell_type": "code",
   "execution_count": 32,
   "id": "6110b949-ba20-4859-828c-c711472804bc",
   "metadata": {},
   "outputs": [],
   "source": [
    "# Clean book titles\n",
    "filtered_book_df['book_title'] = filtered_book_df['book_title'].str.lower()\n",
    "\n",
    "# Remove all other characters except the alphabets.\n",
    "filtered_book_df['book_title'] = filtered_book_df['book_title'].apply(lambda x: re.sub(r'[^a-zA-Z0-9\\s]', '', x))\n",
    "\n",
    "# Replace extra spaces\n",
    "filtered_book_df['book_title'] = filtered_book_df['book_title'].apply(lambda x: re.sub(r'\\s+', ' ', x))\n",
    "filtered_book_df['book_title'] = filtered_book_df['book_title'].str.strip()"
   ]
  },
  {
   "cell_type": "code",
   "execution_count": 33,
   "id": "af336e8b-baac-4330-9c35-b43eac8e4f49",
   "metadata": {},
   "outputs": [
    {
     "data": {
      "text/html": [
       "<div>\n",
       "<style scoped>\n",
       "    .dataframe tbody tr th:only-of-type {\n",
       "        vertical-align: middle;\n",
       "    }\n",
       "\n",
       "    .dataframe tbody tr th {\n",
       "        vertical-align: top;\n",
       "    }\n",
       "\n",
       "    .dataframe thead th {\n",
       "        text-align: right;\n",
       "    }\n",
       "</style>\n",
       "<table border=\"1\" class=\"dataframe\">\n",
       "  <thead>\n",
       "    <tr style=\"text-align: right;\">\n",
       "      <th></th>\n",
       "      <th>isbn</th>\n",
       "      <th>book_title</th>\n",
       "      <th>book_author</th>\n",
       "      <th>year_of_publication</th>\n",
       "      <th>publisher</th>\n",
       "      <th>image_url_m</th>\n",
       "      <th>image_url_l</th>\n",
       "      <th>n_votes</th>\n",
       "      <th>total_rating</th>\n",
       "      <th>avg_rating</th>\n",
       "    </tr>\n",
       "  </thead>\n",
       "  <tbody>\n",
       "    <tr>\n",
       "      <th>0</th>\n",
       "      <td>0002005018</td>\n",
       "      <td>clara callan</td>\n",
       "      <td>richard bruce wright</td>\n",
       "      <td>2001</td>\n",
       "      <td>HarperFlamingo Canada</td>\n",
       "      <td>http://images.amazon.com/images/P/0002005018.0...</td>\n",
       "      <td>http://images.amazon.com/images/P/0002005018.0...</td>\n",
       "      <td>9</td>\n",
       "      <td>69</td>\n",
       "      <td>7.666667</td>\n",
       "    </tr>\n",
       "    <tr>\n",
       "      <th>1</th>\n",
       "      <td>0060973129</td>\n",
       "      <td>decision in normandy</td>\n",
       "      <td>carlo d este</td>\n",
       "      <td>1991</td>\n",
       "      <td>HarperPerennial</td>\n",
       "      <td>http://images.amazon.com/images/P/0060973129.0...</td>\n",
       "      <td>http://images.amazon.com/images/P/0060973129.0...</td>\n",
       "      <td>2</td>\n",
       "      <td>15</td>\n",
       "      <td>7.500000</td>\n",
       "    </tr>\n",
       "    <tr>\n",
       "      <th>2</th>\n",
       "      <td>0374157065</td>\n",
       "      <td>flu the story of the great influenza pandemic ...</td>\n",
       "      <td>gina bari kolata</td>\n",
       "      <td>1999</td>\n",
       "      <td>Farrar Straus Giroux</td>\n",
       "      <td>http://images.amazon.com/images/P/0374157065.0...</td>\n",
       "      <td>http://images.amazon.com/images/P/0374157065.0...</td>\n",
       "      <td>6</td>\n",
       "      <td>47</td>\n",
       "      <td>7.833333</td>\n",
       "    </tr>\n",
       "    <tr>\n",
       "      <th>3</th>\n",
       "      <td>0399135782</td>\n",
       "      <td>the kitchen gods wife</td>\n",
       "      <td>amy tan</td>\n",
       "      <td>1991</td>\n",
       "      <td>Putnam Pub Group</td>\n",
       "      <td>http://images.amazon.com/images/P/0399135782.0...</td>\n",
       "      <td>http://images.amazon.com/images/P/0399135782.0...</td>\n",
       "      <td>17</td>\n",
       "      <td>139</td>\n",
       "      <td>8.176471</td>\n",
       "    </tr>\n",
       "    <tr>\n",
       "      <th>4</th>\n",
       "      <td>0425176428</td>\n",
       "      <td>what if the worlds foremost military historian...</td>\n",
       "      <td>robert cowley</td>\n",
       "      <td>2000</td>\n",
       "      <td>Berkley Publishing Group</td>\n",
       "      <td>http://images.amazon.com/images/P/0425176428.0...</td>\n",
       "      <td>http://images.amazon.com/images/P/0425176428.0...</td>\n",
       "      <td>1</td>\n",
       "      <td>8</td>\n",
       "      <td>8.000000</td>\n",
       "    </tr>\n",
       "  </tbody>\n",
       "</table>\n",
       "</div>"
      ],
      "text/plain": [
       "         isbn                                         book_title  \\\n",
       "0  0002005018                                       clara callan   \n",
       "1  0060973129                               decision in normandy   \n",
       "2  0374157065  flu the story of the great influenza pandemic ...   \n",
       "3  0399135782                              the kitchen gods wife   \n",
       "4  0425176428  what if the worlds foremost military historian...   \n",
       "\n",
       "            book_author  year_of_publication                 publisher  \\\n",
       "0  richard bruce wright                 2001     HarperFlamingo Canada   \n",
       "1          carlo d este                 1991           HarperPerennial   \n",
       "2      gina bari kolata                 1999      Farrar Straus Giroux   \n",
       "3               amy tan                 1991          Putnam Pub Group   \n",
       "4         robert cowley                 2000  Berkley Publishing Group   \n",
       "\n",
       "                                         image_url_m  \\\n",
       "0  http://images.amazon.com/images/P/0002005018.0...   \n",
       "1  http://images.amazon.com/images/P/0060973129.0...   \n",
       "2  http://images.amazon.com/images/P/0374157065.0...   \n",
       "3  http://images.amazon.com/images/P/0399135782.0...   \n",
       "4  http://images.amazon.com/images/P/0425176428.0...   \n",
       "\n",
       "                                         image_url_l  n_votes  total_rating  \\\n",
       "0  http://images.amazon.com/images/P/0002005018.0...        9            69   \n",
       "1  http://images.amazon.com/images/P/0060973129.0...        2            15   \n",
       "2  http://images.amazon.com/images/P/0374157065.0...        6            47   \n",
       "3  http://images.amazon.com/images/P/0399135782.0...       17           139   \n",
       "4  http://images.amazon.com/images/P/0425176428.0...        1             8   \n",
       "\n",
       "   avg_rating  \n",
       "0    7.666667  \n",
       "1    7.500000  \n",
       "2    7.833333  \n",
       "3    8.176471  \n",
       "4    8.000000  "
      ]
     },
     "execution_count": 33,
     "metadata": {},
     "output_type": "execute_result"
    }
   ],
   "source": [
    "filtered_book_df.head()"
   ]
  },
  {
   "cell_type": "markdown",
   "id": "b9629fec-cff2-4923-b4dd-f72bb8031412",
   "metadata": {},
   "source": [
    "#### Remove Duplicates"
   ]
  },
  {
   "cell_type": "code",
   "execution_count": 34,
   "id": "cb49a797-6a79-47cc-8d99-d8e029d5d628",
   "metadata": {},
   "outputs": [
    {
     "name": "stdout",
     "output_type": "stream",
     "text": [
      "Number of duplicates in Books:: 11184\n"
     ]
    }
   ],
   "source": [
    "# Check duplicates\n",
    "print(\"Number of duplicates in Books::\", filtered_book_df.duplicated(['book_title', 'book_author']).sum())"
   ]
  },
  {
   "cell_type": "code",
   "execution_count": 35,
   "id": "789e6f0e-f1ab-4549-be77-471952b82e2c",
   "metadata": {},
   "outputs": [],
   "source": [
    "# Let's consider book with maximum votes if duplicate present.\n",
    "# a = filtered_book_df.groupby(['book_title'])[['n_votes', 'isbn']].max().reset_index()\n",
    "# final_book_df = filtered_book_df[filtered_book_df.isbn.isin(a.isbn)]\n",
    "\n",
    "final_book_df = filtered_book_df.drop_duplicates(['book_title'])"
   ]
  },
  {
   "cell_type": "code",
   "execution_count": 36,
   "id": "67ba69ed-e812-4dfc-96e7-be400a66777b",
   "metadata": {},
   "outputs": [
    {
     "data": {
      "text/plain": [
       "((136935, 10), (122271, 10))"
      ]
     },
     "execution_count": 36,
     "metadata": {},
     "output_type": "execute_result"
    }
   ],
   "source": [
    "filtered_book_df.shape, final_book_df.shape"
   ]
  },
  {
   "cell_type": "code",
   "execution_count": 37,
   "id": "215fd9d0-96a4-4710-8209-1b4c582cca2f",
   "metadata": {},
   "outputs": [
    {
     "data": {
      "text/plain": [
       "isbn                   0\n",
       "book_title             0\n",
       "book_author            0\n",
       "year_of_publication    0\n",
       "publisher              0\n",
       "image_url_m            0\n",
       "image_url_l            0\n",
       "n_votes                0\n",
       "total_rating           0\n",
       "avg_rating             0\n",
       "dtype: int64"
      ]
     },
     "execution_count": 37,
     "metadata": {},
     "output_type": "execute_result"
    }
   ],
   "source": [
    "# Check for missing values\n",
    "final_book_df.isnull().sum()"
   ]
  },
  {
   "cell_type": "code",
   "execution_count": 38,
   "id": "70641ab1-fe41-4095-be33-593fbdc066c2",
   "metadata": {},
   "outputs": [
    {
     "data": {
      "text/plain": [
       "np.int64(0)"
      ]
     },
     "execution_count": 38,
     "metadata": {},
     "output_type": "execute_result"
    }
   ],
   "source": [
    "# Check for duplicates in final book data\n",
    "final_book_df.duplicated().sum()"
   ]
  },
  {
   "cell_type": "code",
   "execution_count": 39,
   "id": "a479bb10-df66-4caa-b8dd-edeea7bcfb26",
   "metadata": {},
   "outputs": [],
   "source": [
    "# Save dataset\n",
    "final_book_df.to_csv(\"../data/process_data/books_df.csv\", index=False)"
   ]
  },
  {
   "cell_type": "markdown",
   "id": "56cff2b0-5e68-4046-8566-21d827fd6c6a",
   "metadata": {},
   "source": [
    "### User Data"
   ]
  },
  {
   "cell_type": "code",
   "execution_count": 40,
   "id": "e767d826-0f69-4492-8470-e69118a28c80",
   "metadata": {},
   "outputs": [
    {
     "data": {
      "text/html": [
       "<div>\n",
       "<style scoped>\n",
       "    .dataframe tbody tr th:only-of-type {\n",
       "        vertical-align: middle;\n",
       "    }\n",
       "\n",
       "    .dataframe tbody tr th {\n",
       "        vertical-align: top;\n",
       "    }\n",
       "\n",
       "    .dataframe thead th {\n",
       "        text-align: right;\n",
       "    }\n",
       "</style>\n",
       "<table border=\"1\" class=\"dataframe\">\n",
       "  <thead>\n",
       "    <tr style=\"text-align: right;\">\n",
       "      <th></th>\n",
       "      <th>user_id</th>\n",
       "      <th>location</th>\n",
       "      <th>age</th>\n",
       "    </tr>\n",
       "  </thead>\n",
       "  <tbody>\n",
       "    <tr>\n",
       "      <th>0</th>\n",
       "      <td>1</td>\n",
       "      <td>nyc, new york, usa</td>\n",
       "      <td>NaN</td>\n",
       "    </tr>\n",
       "    <tr>\n",
       "      <th>1</th>\n",
       "      <td>2</td>\n",
       "      <td>stockton, california, usa</td>\n",
       "      <td>18.0</td>\n",
       "    </tr>\n",
       "    <tr>\n",
       "      <th>2</th>\n",
       "      <td>3</td>\n",
       "      <td>moscow, yukon territory, russia</td>\n",
       "      <td>NaN</td>\n",
       "    </tr>\n",
       "    <tr>\n",
       "      <th>3</th>\n",
       "      <td>4</td>\n",
       "      <td>porto, v.n.gaia, portugal</td>\n",
       "      <td>17.0</td>\n",
       "    </tr>\n",
       "    <tr>\n",
       "      <th>4</th>\n",
       "      <td>5</td>\n",
       "      <td>farnborough, hants, united kingdom</td>\n",
       "      <td>NaN</td>\n",
       "    </tr>\n",
       "  </tbody>\n",
       "</table>\n",
       "</div>"
      ],
      "text/plain": [
       "   user_id                            location   age\n",
       "0        1                  nyc, new york, usa   NaN\n",
       "1        2           stockton, california, usa  18.0\n",
       "2        3     moscow, yukon territory, russia   NaN\n",
       "3        4           porto, v.n.gaia, portugal  17.0\n",
       "4        5  farnborough, hants, united kingdom   NaN"
      ]
     },
     "execution_count": 40,
     "metadata": {},
     "output_type": "execute_result"
    }
   ],
   "source": [
    "# Save the users data into new dataframe.\n",
    "user_df = users.copy()\n",
    "\n",
    "# View\n",
    "user_df.head()"
   ]
  },
  {
   "cell_type": "code",
   "execution_count": 41,
   "id": "8851bfa0-9a81-45c0-ae8b-ff78c0dd053e",
   "metadata": {},
   "outputs": [],
   "source": [
    "# Create a new columns for location such as Country & City.\n",
    "user_df = user_df.assign(country = user_df.location.apply(lambda x: x.split(',')[-1].strip()))\n",
    "user_df = user_df.assign(city = user_df.location.apply(lambda x: x.split(',')[0].strip()))\n",
    "\n",
    "# Remove location column\n",
    "del user_df['location']"
   ]
  },
  {
   "cell_type": "code",
   "execution_count": 42,
   "id": "e919650a-392e-4204-9dfe-44b862f9e63c",
   "metadata": {},
   "outputs": [],
   "source": [
    "# Function\n",
    "def clean_text(text):\n",
    "    # Apply lowercasing\n",
    "    text = text.lower()\n",
    "    # Remove all other characters except the alphabets.\n",
    "    text = re.sub(r'[^a-zA-Z\\s]', ' ', text)\n",
    "    # Replace extra spaces\n",
    "    text = re.sub(r'\\s+', ' ', text).strip()\n",
    "    return text\n",
    "\n",
    "user_df['country'] = user_df['country'].apply(clean_text)"
   ]
  },
  {
   "cell_type": "code",
   "execution_count": 43,
   "id": "66d6a48d-d390-4e9c-b21d-d09b86056fd5",
   "metadata": {},
   "outputs": [],
   "source": [
    "# Renaming the country names\n",
    "country_names = {\n",
    "    'afganstand holla ':'afghanistan',\n",
    "    'ahrensburg': 'germany',\n",
    "    'alachua': 'united states of america',\n",
    "    'alg rie': 'algeria',\n",
    "    'allen': 'ireland',\n",
    "    'america': 'united states of america',\n",
    "    'american samoa': 'united states of america',\n",
    "    'antigua  barbuda': 'antigua and barbuda',\n",
    "    'austbritania': 'australia',\n",
    "    'australii': 'australia',\n",
    "    'autralia': 'australia',\n",
    "    'bademn w rtemberg': 'germany',\n",
    "    'baden w rttemberg': 'germany',\n",
    "    'belgi': 'belgium',\n",
    "    'belgique': 'belgium',\n",
    "    'bell': 'belize',\n",
    "    ' brasil':'brazil',\n",
    "    'brasil': 'brazil',\n",
    "    'brunei darussalam': 'brunei',\n",
    "    'burkina faso': 'burkinafasu',\n",
    "    'can': 'canada',\n",
    "    'canada eh': 'canada',\n",
    "    'cananda': 'canada',\n",
    "    'canda': 'canada',\n",
    "    'camden': 'canada',\n",
    "    'catalonia': 'spain',\n",
    "    'catalunya': 'spain',\n",
    "    'catalunya catalonia': 'spain',\n",
    "    'catalunya spain': 'spain',\n",
    "    'chadwick ct': 'chad',\n",
    "    'cherokee':'chad',\n",
    "    'chian': 'china',\n",
    "    'china people s republic': 'china',\n",
    "    'cn': 'china',\n",
    "    'cnina': 'china',\n",
    "    'collin': 'colombia',\n",
    "    'commonwealth of northern mariana islands': 'united states of america',\n",
    "    'cook': 'new zealand',\n",
    "    'copenhagen': 'denmark',\n",
    "    'courtenay': 'croatia',\n",
    "    'csa': 'united states of america',\n",
    "    'cted': 'chad',\n",
    "    'czech republic': 'germany',\n",
    "    'de': 'germany',\n",
    "    'der': 'germany',\n",
    "    'deutsches reich': 'germany',\n",
    "    'deutschland': 'germany',\n",
    "    'dfg': 'germany',\n",
    "    'distrito federal' : 'brazil',\n",
    "    'dominican republic': 'dominica',\n",
    "    'dublin' : 'ireland',\n",
    "    'east africa': 'africa',\n",
    "    'ee uu' :'united states of america',\n",
    "    'effingham':'united states of america',\n",
    "    'el salvador' : 'el salvador',\n",
    "    'england': 'united kingdom',\n",
    "    'englanduk': 'united kingdom',\n",
    "    'english': 'united kingdom',\n",
    "    'equatorial geuinea' : 'equatorial geuinea',\n",
    "    'espa a':'spain',\n",
    "    'essex':'united kingdom',\n",
    "    'euskadi':'spain',\n",
    "    'euskal herria': 'basque',\n",
    "    'ferrara': 'italy',\n",
    "    'fifi': 'fiji',\n",
    "    'fontana': 'brazil',\n",
    "    'fortaleza': 'brazil',\n",
    "    'fort bend': 'brazil',\n",
    "    'frome' : 'rome',\n",
    "    'galiza': 'spain',\n",
    "    'galiza neghra': 'spain',\n",
    "    'gb': 'united kingdom',\n",
    "    'geermany': 'germany',\n",
    "    'germay': 'germany',\n",
    "    'good old u s a': 'united states of america',\n",
    "    'good old usa': 'united states of america',\n",
    "    'goteborg': 'sweden',\n",
    "    'greece hellas' :'greece',\n",
    "    'guam': 'united states of america',\n",
    "    'guinea bissau': 'guinea',\n",
    "    'hamilton': 'canada',\n",
    "    'hampden': 'united states of america',\n",
    "    'hennipen': 'united states of america',\n",
    "    'henry': 'hungary',\n",
    "    'hongkong': 'china',\n",
    "    'houston':'united states of america',\n",
    "    'h u g': 'hungary',\n",
    "    'hungary and usa' : 'hungary',\n",
    "    'id' : 'iceland',\n",
    "    'il canada': 'canada',\n",
    "    'in': 'india',\n",
    "    'indiai': 'india',\n",
    "    'isle of man': 'isle of man',\n",
    "    'isreal': 'israel',\n",
    "    'italia': 'italy',\n",
    "    'italien' : 'italy',\n",
    "    'itlay': 'italy',\n",
    "    'kern': 'kenya',\n",
    "    'korea': 'south korea',\n",
    "    'ksa': 'united states of america',\n",
    "    'kz': 'kyrgyzstan',\n",
    "    'l alg rie': 'algeria',\n",
    "    'l italia': 'italy',\n",
    "    'la argentina': 'argentina',\n",
    "    'la belgique': 'belgium',\n",
    "    'la chine eternelle' : 'china',\n",
    "    'la chine ternelle': 'china',\n",
    "    'la france': 'france',\n",
    "    'la suisse': 'switzerland',\n",
    "    'la svizzera': 'switzerland',\n",
    "    'le canada': 'canada',\n",
    "    'le madagascar': 'madagascar',\n",
    "    'lecce': 'italy',\n",
    "    'lee': 'italy',\n",
    "    'liaoning': 'china',\n",
    "    'lleida': 'spain',\n",
    "    'lombardia': 'italy',\n",
    "    'los estados unidos de norte america': 'united states of america',\n",
    "    'm rida': 'mexico',\n",
    "    'm xico': 'mexico',\n",
    "    'macau': 'china',\n",
    "    'madrid': 'spain',\n",
    "    'maine': 'united states of america',\n",
    "    'malaysian': 'malaysia',\n",
    "    'maracopa': 'maricopa',\n",
    "    'maroc': 'morocco',\n",
    "    'marrion': 'morocco',\n",
    "    'marshall islands': 'marshall islands',\n",
    "    'milano': 'italy',\n",
    "    'minnehaha': 'italy',\n",
    "    'mo ambique': 'mozambique',\n",
    "    'monroe':'united states of america',\n",
    "    'monterrey': 'mexico',\n",
    "    'my':'myanmar',\n",
    "    'nederlands': 'netherlands',\n",
    "    'netherlands antilles': 'netherlands',\n",
    "    'never land': 'netherlands',\n",
    "    'new london': 'united kingdom',\n",
    "    'north carolina': 'united states of america',\n",
    "    'northern ireland': 'united kingdom',\n",
    "    'nrw': 'norway',\n",
    "    'nyc': 'united states of america',\n",
    "    'nz': 'new zealand',\n",
    "    'ohio': 'united states of america',\n",
    "    'onondaga nation': 'united states of america',\n",
    "    'orange co': 'united states of america',\n",
    "    'orense': 'spain',\n",
    "    'osceola': 'united states of america',\n",
    "    'palmbeach': 'united states of america',\n",
    "    'pasco' :'united states of america',\n",
    "    'pender' :'united states of america',\n",
    "    'people s republic of china': 'china',\n",
    "    'per': 'peru',\n",
    "    'phila' : 'philippines',\n",
    "    'philippine':'philippines',\n",
    "    'philippinies' : 'philippines',\n",
    "    'phillipines': 'philippines',\n",
    "    'phils' :'philippines',\n",
    "    'phippines':'philippines',\n",
    "    'pinallas':'philippines',\n",
    "    'pippo':'philippines',\n",
    "    'p r c': 'china',\n",
    "    'p r china': 'china',\n",
    "    'prc': 'china',\n",
    "    'pr': 'china',\n",
    "    'republic of korea': 'south korea',\n",
    "    'republic of panama': 'panama',\n",
    "    'roma': 'italy',\n",
    "    'rsa': 'russia',\n",
    "    'russian federation': 'russia',\n",
    "    's africa': 'south africa',\n",
    "    's corea': 'south korea',\n",
    "    'saint kitts and nevis': 'saint kitts and nevis',\n",
    "    'saint loius': 'united states of america',\n",
    "    'san bernardino': 'united states of america',\n",
    "    'san franicsco': 'united states of america',\n",
    "    'san mateo': 'united states of america',\n",
    "    'santa barbara': 'united states of america',\n",
    "    'sao tome and principe': 'sao tome and principe',\n",
    "    'sardegna': 'italy',\n",
    "    'sardinia': 'italy',\n",
    "    'saudia arabia': 'saudi arabia',\n",
    "    'scotland': 'united kingdom',\n",
    "    'serbia and montenegro': 'serbia',\n",
    "    'serbia montenegro': 'serbia',\n",
    "    'singapore united kingdom': 'singapore',\n",
    "    'slo': 'slovakia',\n",
    "    'slovak republik': 'slovakia',\n",
    "    'srilanka': 'sri lanka',\n",
    "    'sri lanka n a': 'sri lanka',\n",
    "    'suisse': 'switzerland',\n",
    "    'sultanate of oman': 'oman',\n",
    "    'swaziland': 'switzerland',\n",
    "    'swazilandia': 'switzerland',\n",
    "    'tdzimi': 'tanzania',\n",
    "    'texas': 'united states of america',\n",
    "    'thailoand': 'thailand',\n",
    "    'the gambia': 'gambia',\n",
    "    'the netherlands': 'netherlands',\n",
    "    'the philippines': 'philippines',\n",
    "    'toscana': 'italy',\n",
    "    'trinidad' : 'trinidad and tobago',\n",
    "    'trinidad tobago': 'trinidad and tobago',\n",
    "    't rkiye': 'turkey',\n",
    "    'turkei': 'turkey',\n",
    "    'tyrtyrt': 'turkey',\n",
    "    'u a e': 'united arab emirates',\n",
    "    'u k': 'united kingdom',\n",
    "    'u s': 'united states of america',\n",
    "    'u s a': 'united states of america',\n",
    "    'u s of a': 'united states of america',\n",
    "    'u s virgin islands': 'united states of america',\n",
    "    'ua': 'united states of america',\n",
    "    'uae': 'united arab emirates',\n",
    "    'uk': 'united kingdom',\n",
    "    'ukrain': 'ukraine',\n",
    "    'united kindgdom': 'united kingdom',\n",
    "    'united kindgonm': 'united kingdom',\n",
    "    'united staes': 'united states of america',\n",
    "    'united state': 'united states of america',\n",
    "    'united statea': 'united states of america',\n",
    "    'united stated' : 'united states of america',\n",
    "    'united states' : 'united states of america',\n",
    "    'united stated of america': 'united states of america',\n",
    "    'unite states': 'united states of america',\n",
    "    'urugua': 'uruguay',\n",
    "    'us' : 'united states of america',\n",
    "    'usa': 'united states of america',\n",
    "    'usa canada': 'united states of america',\n",
    "    'usa currently living in england': 'united states of america',\n",
    "    'ussurfing': 'united states of america',\n",
    "    'ust': 'united states of america',\n",
    "    'uusa': 'united states of america',\n",
    "    'van wert': 'vanuatu',\n",
    "    'ventura': 'venezuela',\n",
    "    'ventura county': 'venezuela',\n",
    "    'vicenza': 'australia',\n",
    "    'victoria': 'australia',\n",
    "    'wales': 'united kingdom',\n",
    "    'w malaysia': 'malaysia',\n",
    "    'wonderful usa': 'united states of america',\n",
    "    'ysa': 'united states of america',\n",
    "    'zhengjiang': 'china',\n",
    "}\n",
    "\n",
    "# Apply and save the changes.\n",
    "user_df['country'] = user_df.country.replace(country_names)"
   ]
  },
  {
   "cell_type": "code",
   "execution_count": 44,
   "id": "32349670-5a4a-40ac-8fc9-0f5d57fadc73",
   "metadata": {},
   "outputs": [
    {
     "data": {
      "text/plain": [
       "((278858, 3), (273264, 4))"
      ]
     },
     "execution_count": 44,
     "metadata": {},
     "output_type": "execute_result"
    }
   ],
   "source": [
    "# Correct country names\n",
    "country_list = ['afghanistan', 'albania', 'algeria', 'andorra', 'angola', 'antigua and barbuda', 'argentina', 'armenia', 'australia', 'austria', 'azerbaijan', 'bahamas', 'bahrain', 'bangladesh', 'barbados', 'belarus', 'belgium', 'belize', 'benin', 'bhutan', 'bolivia', 'bosnia and herzegovina', 'botswana', 'brazil', 'brunei', 'bulgaria', 'burkina faso', 'burundi', \"côte d'ivoire\", 'cabo verde', 'cambodia', 'cameroon', 'canada', 'central african republic', 'chad', 'chile', 'china', 'colombia', 'comoros', 'congo (congo-brazzaville)', 'costa rica', 'croatia', 'cuba', 'cyprus', 'czechia (czech republic)', 'democratic republic of the congo', 'denmark', 'djibouti', 'dominica', 'dominican republic', 'ecuador', 'egypt', 'el salvador', 'equatorial guinea', 'eritrea', 'estonia', 'eswatini (fmr. \"swaziland\")', 'ethiopia', 'fiji', 'finland', 'france', 'gabon', 'gambia', 'georgia', 'germany', 'ghana', 'greece', 'grenada', 'guatemala', 'guinea', 'guinea-bissau', 'guyana', 'haiti', 'holy see', 'honduras', 'hungary', 'iceland', 'india', 'indonesia', 'iran', 'iraq', 'ireland', 'israel', 'italy', 'jamaica', 'japan', 'jordan', 'kazakhstan', 'kenya', 'kiribati', 'kuwait', 'kyrgyzstan', 'laos', 'latvia', 'lebanon', 'lesotho', 'liberia', 'libya', 'liechtenstein', 'lithuania', 'luxembourg', 'madagascar', 'malawi', 'malaysia', 'maldives', 'mali', 'malta', 'marshall islands', 'mauritania', 'mauritius', 'mexico', 'micronesia', 'moldova', 'monaco', 'mongolia', 'montenegro', 'morocco', 'mozambique', 'myanmar', 'namibia', 'nauru', 'nepal', 'netherlands', 'new zealand', 'nicaragua', 'niger', 'nigeria', 'north korea', 'north macedonia', 'norway', 'oman', 'pakistan', 'palau', 'palestine state', 'panama', 'papua new guinea', 'paraguay', 'peru', 'philippines', 'poland', 'portugal', 'qatar', 'romania', 'russia', 'rwanda', 'saint kitts and nevis', 'saint lucia', 'saint vincent and the grenadines', 'samoa', 'san marino', 'sao tome and principe', 'saudi arabia', 'senegal', 'serbia', 'seychelles', 'sierra leone', 'singapore', 'slovakia', 'slovenia', 'solomon islands', 'somalia', 'south africa', 'south korea', 'south sudan', 'spain', 'sri lanka', 'sudan', 'suriname', 'sweden', 'switzerland', 'syria', 'tajikistan', 'tanzania', 'thailand', 'timor-leste', 'togo', 'tonga', 'trinidad and tobago', 'tunisia', 'turkey', 'turkmenistan', 'tuvalu', 'uganda', 'ukraine', 'united arab emirates', 'united kingdom', 'united states of america', 'uruguay', 'uzbekistan', 'vanuatu', 'venezuela', 'vietnam', 'yemen', 'zambia', 'zimbabwe']\n",
    "\n",
    "# Filter user data\n",
    "user_df = user_df[user_df.country.isin(country_list)]\n",
    "\n",
    "# Number of users\n",
    "users.shape, user_df.shape"
   ]
  },
  {
   "cell_type": "code",
   "execution_count": 45,
   "id": "4506f39b-ee94-4f0c-89db-d5806dda4d1d",
   "metadata": {},
   "outputs": [
    {
     "data": {
      "text/html": [
       "<div>\n",
       "<style scoped>\n",
       "    .dataframe tbody tr th:only-of-type {\n",
       "        vertical-align: middle;\n",
       "    }\n",
       "\n",
       "    .dataframe tbody tr th {\n",
       "        vertical-align: top;\n",
       "    }\n",
       "\n",
       "    .dataframe thead th {\n",
       "        text-align: right;\n",
       "    }\n",
       "</style>\n",
       "<table border=\"1\" class=\"dataframe\">\n",
       "  <thead>\n",
       "    <tr style=\"text-align: right;\">\n",
       "      <th></th>\n",
       "      <th>user_id</th>\n",
       "      <th>age</th>\n",
       "    </tr>\n",
       "  </thead>\n",
       "  <tbody>\n",
       "    <tr>\n",
       "      <th>count</th>\n",
       "      <td>273264.0</td>\n",
       "      <td>165613.0</td>\n",
       "    </tr>\n",
       "    <tr>\n",
       "      <th>mean</th>\n",
       "      <td>139444.0</td>\n",
       "      <td>35.0</td>\n",
       "    </tr>\n",
       "    <tr>\n",
       "      <th>std</th>\n",
       "      <td>80492.0</td>\n",
       "      <td>14.0</td>\n",
       "    </tr>\n",
       "    <tr>\n",
       "      <th>min</th>\n",
       "      <td>1.0</td>\n",
       "      <td>0.0</td>\n",
       "    </tr>\n",
       "    <tr>\n",
       "      <th>25%</th>\n",
       "      <td>69722.0</td>\n",
       "      <td>24.0</td>\n",
       "    </tr>\n",
       "    <tr>\n",
       "      <th>50%</th>\n",
       "      <td>139454.0</td>\n",
       "      <td>32.0</td>\n",
       "    </tr>\n",
       "    <tr>\n",
       "      <th>75%</th>\n",
       "      <td>209149.0</td>\n",
       "      <td>44.0</td>\n",
       "    </tr>\n",
       "    <tr>\n",
       "      <th>max</th>\n",
       "      <td>278858.0</td>\n",
       "      <td>244.0</td>\n",
       "    </tr>\n",
       "  </tbody>\n",
       "</table>\n",
       "</div>"
      ],
      "text/plain": [
       "        user_id       age\n",
       "count  273264.0  165613.0\n",
       "mean   139444.0      35.0\n",
       "std     80492.0      14.0\n",
       "min         1.0       0.0\n",
       "25%     69722.0      24.0\n",
       "50%    139454.0      32.0\n",
       "75%    209149.0      44.0\n",
       "max    278858.0     244.0"
      ]
     },
     "execution_count": 45,
     "metadata": {},
     "output_type": "execute_result"
    }
   ],
   "source": [
    "# Users summary statistics\n",
    "user_df.describe().round()"
   ]
  },
  {
   "cell_type": "code",
   "execution_count": 46,
   "id": "8018a6e5-9fb5-4603-a333-fcb775f9e064",
   "metadata": {},
   "outputs": [
    {
     "data": {
      "text/html": [
       "<div>\n",
       "<style scoped>\n",
       "    .dataframe tbody tr th:only-of-type {\n",
       "        vertical-align: middle;\n",
       "    }\n",
       "\n",
       "    .dataframe tbody tr th {\n",
       "        vertical-align: top;\n",
       "    }\n",
       "\n",
       "    .dataframe thead th {\n",
       "        text-align: right;\n",
       "    }\n",
       "</style>\n",
       "<table border=\"1\" class=\"dataframe\">\n",
       "  <thead>\n",
       "    <tr style=\"text-align: right;\">\n",
       "      <th></th>\n",
       "      <th>country</th>\n",
       "      <th>city</th>\n",
       "    </tr>\n",
       "  </thead>\n",
       "  <tbody>\n",
       "    <tr>\n",
       "      <th>count</th>\n",
       "      <td>273264</td>\n",
       "      <td>273264</td>\n",
       "    </tr>\n",
       "    <tr>\n",
       "      <th>unique</th>\n",
       "      <td>174</td>\n",
       "      <td>32220</td>\n",
       "    </tr>\n",
       "    <tr>\n",
       "      <th>top</th>\n",
       "      <td>united states of america</td>\n",
       "      <td>london</td>\n",
       "    </tr>\n",
       "    <tr>\n",
       "      <th>freq</th>\n",
       "      <td>139786</td>\n",
       "      <td>4060</td>\n",
       "    </tr>\n",
       "  </tbody>\n",
       "</table>\n",
       "</div>"
      ],
      "text/plain": [
       "                         country    city\n",
       "count                     273264  273264\n",
       "unique                       174   32220\n",
       "top     united states of america  london\n",
       "freq                      139786    4060"
      ]
     },
     "execution_count": 46,
     "metadata": {},
     "output_type": "execute_result"
    }
   ],
   "source": [
    "user_df.describe(include='object')"
   ]
  },
  {
   "cell_type": "markdown",
   "id": "b7ea13eb-209b-4000-89ab-d4c514d90181",
   "metadata": {},
   "source": [
    "- *The minimum age is 0, while maximum value for the Age column is 244.*"
   ]
  },
  {
   "cell_type": "code",
   "execution_count": 47,
   "id": "f3a01d1c-9ec7-4b5d-83d8-74bf294e4998",
   "metadata": {},
   "outputs": [
    {
     "data": {
      "image/png": "[encoded data removed]",
      "text/plain": [
       "<Figure size 700x400 with 1 Axes>"
      ]
     },
     "metadata": {},
     "output_type": "display_data"
    }
   ],
   "source": [
    "# Visual representation of distribution of user's age.\n",
    "user_df.age.plot(kind='hist', bins=12)\n",
    "\n",
    "# Add labels\n",
    "plt.xlabel(\"Age\")\n",
    "plt.ylabel(\"Frequency\")\n",
    "plt.title(\"Users Age Distribution Histogram\", size=11)\n",
    "\n",
    "plt.grid(ls='--', color='#555', alpha=0.6);"
   ]
  },
  {
   "cell_type": "code",
   "execution_count": 48,
   "id": "72507f2e-9641-4cc3-9246-1abc57ccce86",
   "metadata": {},
   "outputs": [
    {
     "name": "stdout",
     "output_type": "stream",
     "text": [
      "Number of Users with Age > 100:  355\n"
     ]
    }
   ],
   "source": [
    "# Users with age greater than 100.\n",
    "print(\"Number of Users with Age > 100: \", user_df[user_df.age > 100].shape[0])"
   ]
  },
  {
   "cell_type": "markdown",
   "id": "668307fe-9640-4fac-b16d-62e4b1f96926",
   "metadata": {},
   "source": [
    "#### Handling Outliers"
   ]
  },
  {
   "cell_type": "code",
   "execution_count": 49,
   "id": "fe8aaebb",
   "metadata": {},
   "outputs": [],
   "source": [
    "# To handle Outliers\n",
    "# Use Interquantile range method to handle outliers in the 'Age' Column\n",
    "Q1 = users.age.quantile(0.25)\n",
    "Q3 = users.age.quantile(0.75)\n",
    "\n",
    "IQR = Q3 - Q1\n",
    "\n",
    "upper_range = IQR*1.5 + Q3\n",
    "lower_range = IQR*1.5 - Q1\n",
    "\n",
    "user_df['age'] = user_df.age.map(lambda x: lower_range if x < lower_range else x)\n",
    "user_df['age'] = user_df.age.map(lambda x: upper_range if x > upper_range else x)"
   ]
  },
  {
   "cell_type": "code",
   "execution_count": 50,
   "id": "8d51c18a-ecba-474b-bbfb-3185a46b6009",
   "metadata": {},
   "outputs": [
    {
     "data": {
      "image/png": "[encoded data removed]",
      "text/plain": [
       "<Figure size 700x400 with 1 Axes>"
      ]
     },
     "metadata": {},
     "output_type": "display_data"
    }
   ],
   "source": [
    "# Examine the distribution of Age\n",
    "user_df.age.plot(kind='hist', bins=12)\n",
    "\n",
    "# Add labels\n",
    "plt.xlabel(\"Age\")\n",
    "plt.ylabel(\"Frequency\")\n",
    "plt.title(\"Distribution of Age After Removing Outliers\", size=11)\n",
    "\n",
    "plt.grid(ls='--', color='#555', alpha=0.6);"
   ]
  },
  {
   "cell_type": "markdown",
   "id": "e9df86b0-1a51-42d3-b6ca-bfbbcc9c0bcf",
   "metadata": {},
   "source": [
    "#### Handling Missing Data"
   ]
  },
  {
   "cell_type": "code",
   "execution_count": 51,
   "id": "618c2c5f-4749-4991-b5f4-e3b3b5e5e386",
   "metadata": {},
   "outputs": [
    {
     "data": {
      "text/plain": [
       "user_id     0.000000\n",
       "age        38.604236\n",
       "country     0.000000\n",
       "city        0.000000\n",
       "dtype: float64"
      ]
     },
     "execution_count": 51,
     "metadata": {},
     "output_type": "execute_result"
    }
   ],
   "source": [
    "# Check for missing values in users.\n",
    "user_df.isnull().sum() * 100 / len(users)"
   ]
  },
  {
   "cell_type": "markdown",
   "id": "c08926d5-621d-4660-8b53-e961f3763a63",
   "metadata": {},
   "source": [
    "- *Almost 40% of data in AGE column is missing.*"
   ]
  },
  {
   "cell_type": "code",
   "execution_count": 52,
   "id": "f0ddd197-4911-4d83-8fc3-08a03ccceb65",
   "metadata": {},
   "outputs": [],
   "source": [
    "# Create a missing flag feature for age column\n",
    "user_df['is_age_missing'] = user_df.age.isnull().astype('int')"
   ]
  },
  {
   "cell_type": "code",
   "execution_count": 53,
   "id": "62e7818e-bc45-4251-8114-3862dab4cb6e",
   "metadata": {},
   "outputs": [],
   "source": [
    "# Combine user data with ratings to fill missing values\n",
    "user_ratings = user_df.merge(final_ratings, on='user_id')"
   ]
  },
  {
   "cell_type": "code",
   "execution_count": 54,
   "id": "ee49e4a2-3ce1-41cb-914c-9f76e640d2bc",
   "metadata": {},
   "outputs": [],
   "source": [
    "# find the average age of reader by particular book.\n",
    "# Consider original age data.\n",
    "age_by_book = user_ratings.query('is_age_missing==0').groupby(by='isbn', \n",
    "                                                             observed=True)['age'].median().astype(int)\n",
    "age_by_book_dict = age_by_book.to_dict()\n",
    "\n",
    "# Convert it into dataframe\n",
    "age_df = pd.DataFrame.from_dict(age_by_book_dict, \n",
    "                                orient='index', \n",
    "                                columns=['avg_age']).reset_index()\n",
    "age_df.rename({'index': 'isbn'}, axis=1, inplace=True)"
   ]
  },
  {
   "cell_type": "code",
   "execution_count": 55,
   "id": "44bbeb66-c13c-4327-803f-4f4a59285bea",
   "metadata": {},
   "outputs": [
    {
     "data": {
      "text/html": [
       "<div>\n",
       "<style scoped>\n",
       "    .dataframe tbody tr th:only-of-type {\n",
       "        vertical-align: middle;\n",
       "    }\n",
       "\n",
       "    .dataframe tbody tr th {\n",
       "        vertical-align: top;\n",
       "    }\n",
       "\n",
       "    .dataframe thead th {\n",
       "        text-align: right;\n",
       "    }\n",
       "</style>\n",
       "<table border=\"1\" class=\"dataframe\">\n",
       "  <thead>\n",
       "    <tr style=\"text-align: right;\">\n",
       "      <th></th>\n",
       "      <th>user_id</th>\n",
       "      <th>age</th>\n",
       "      <th>country</th>\n",
       "      <th>city</th>\n",
       "      <th>is_age_missing</th>\n",
       "      <th>isbn</th>\n",
       "      <th>book_rating</th>\n",
       "    </tr>\n",
       "  </thead>\n",
       "  <tbody>\n",
       "    <tr>\n",
       "      <th>0</th>\n",
       "      <td>8</td>\n",
       "      <td>30.0</td>\n",
       "      <td>canada</td>\n",
       "      <td>timmins</td>\n",
       "      <td>1</td>\n",
       "      <td>0002005018</td>\n",
       "      <td>5</td>\n",
       "    </tr>\n",
       "    <tr>\n",
       "      <th>1</th>\n",
       "      <td>8</td>\n",
       "      <td>NaN</td>\n",
       "      <td>canada</td>\n",
       "      <td>timmins</td>\n",
       "      <td>1</td>\n",
       "      <td>0887841740</td>\n",
       "      <td>5</td>\n",
       "    </tr>\n",
       "    <tr>\n",
       "      <th>2</th>\n",
       "      <td>8</td>\n",
       "      <td>NaN</td>\n",
       "      <td>canada</td>\n",
       "      <td>timmins</td>\n",
       "      <td>1</td>\n",
       "      <td>1552041778</td>\n",
       "      <td>5</td>\n",
       "    </tr>\n",
       "    <tr>\n",
       "      <th>3</th>\n",
       "      <td>8</td>\n",
       "      <td>NaN</td>\n",
       "      <td>canada</td>\n",
       "      <td>timmins</td>\n",
       "      <td>1</td>\n",
       "      <td>1567407781</td>\n",
       "      <td>6</td>\n",
       "    </tr>\n",
       "    <tr>\n",
       "      <th>4</th>\n",
       "      <td>8</td>\n",
       "      <td>NaN</td>\n",
       "      <td>canada</td>\n",
       "      <td>timmins</td>\n",
       "      <td>1</td>\n",
       "      <td>1575663937</td>\n",
       "      <td>6</td>\n",
       "    </tr>\n",
       "  </tbody>\n",
       "</table>\n",
       "</div>"
      ],
      "text/plain": [
       "   user_id   age country     city  is_age_missing        isbn  book_rating\n",
       "0        8  30.0  canada  timmins               1  0002005018            5\n",
       "1        8   NaN  canada  timmins               1  0887841740            5\n",
       "2        8   NaN  canada  timmins               1  1552041778            5\n",
       "3        8   NaN  canada  timmins               1  1567407781            6\n",
       "4        8   NaN  canada  timmins               1  1575663937            6"
      ]
     },
     "execution_count": 55,
     "metadata": {},
     "output_type": "execute_result"
    }
   ],
   "source": [
    "# Merge datasets & replace missing values in age by average age.\n",
    "merged_df = user_ratings.merge(age_df, on='isbn', how='left')\n",
    "merged_df['age'] = merged_df['age'].fillna(merged_df['avg_age'])\n",
    "\n",
    "# Remove the avg_age column\n",
    "del merged_df['avg_age']\n",
    "\n",
    "# View\n",
    "merged_df.head()"
   ]
  },
  {
   "cell_type": "markdown",
   "id": "c31bb85a-ac92-400c-864b-5b8d0c221364",
   "metadata": {},
   "source": [
    "- *After joining the datasets, we can see that user_id 8 has age for one 'isbn' only.*\n",
    "- *There is possibility that one user_id can have multiple age values, since we filled missing values by book.*\n",
    "-  *By using this information, we can filled missing values of age by user_id for only data that was missing originally.*"
   ]
  },
  {
   "cell_type": "code",
   "execution_count": 56,
   "id": "6c5446d8-7969-4492-bcdb-c046699080d4",
   "metadata": {},
   "outputs": [],
   "source": [
    "# filtered data with missing age values. \n",
    "a = merged_df.query('is_age_missing==1').dropna()\n",
    "\n",
    "# Compute the average age by user_id\n",
    "age_by_user = a.groupby(by='user_id', observed=True)['age'].median().astype(int)\n",
    "age_by_user_dict = age_by_user.to_dict()\n",
    "\n",
    "# Convert it into dataframe\n",
    "age__df = pd.DataFrame.from_dict(age_by_user_dict, \n",
    "                                orient='index', \n",
    "                                columns=['avg_user_age']).reset_index()\n",
    "age__df.rename({'index': 'user_id'}, axis=1, inplace=True)"
   ]
  },
  {
   "cell_type": "code",
   "execution_count": 57,
   "id": "8a4bd623-b82c-4455-86d2-a70e1c9c116b",
   "metadata": {},
   "outputs": [
    {
     "data": {
      "text/html": [
       "<div>\n",
       "<style scoped>\n",
       "    .dataframe tbody tr th:only-of-type {\n",
       "        vertical-align: middle;\n",
       "    }\n",
       "\n",
       "    .dataframe tbody tr th {\n",
       "        vertical-align: top;\n",
       "    }\n",
       "\n",
       "    .dataframe thead th {\n",
       "        text-align: right;\n",
       "    }\n",
       "</style>\n",
       "<table border=\"1\" class=\"dataframe\">\n",
       "  <thead>\n",
       "    <tr style=\"text-align: right;\">\n",
       "      <th></th>\n",
       "      <th>user_id</th>\n",
       "      <th>age</th>\n",
       "      <th>country</th>\n",
       "      <th>city</th>\n",
       "      <th>is_age_missing</th>\n",
       "      <th>isbn</th>\n",
       "      <th>book_rating</th>\n",
       "    </tr>\n",
       "  </thead>\n",
       "  <tbody>\n",
       "    <tr>\n",
       "      <th>0</th>\n",
       "      <td>8</td>\n",
       "      <td>30.0</td>\n",
       "      <td>canada</td>\n",
       "      <td>timmins</td>\n",
       "      <td>1</td>\n",
       "      <td>0002005018</td>\n",
       "      <td>5</td>\n",
       "    </tr>\n",
       "    <tr>\n",
       "      <th>1</th>\n",
       "      <td>8</td>\n",
       "      <td>30.0</td>\n",
       "      <td>canada</td>\n",
       "      <td>timmins</td>\n",
       "      <td>1</td>\n",
       "      <td>0887841740</td>\n",
       "      <td>5</td>\n",
       "    </tr>\n",
       "    <tr>\n",
       "      <th>2</th>\n",
       "      <td>8</td>\n",
       "      <td>30.0</td>\n",
       "      <td>canada</td>\n",
       "      <td>timmins</td>\n",
       "      <td>1</td>\n",
       "      <td>1552041778</td>\n",
       "      <td>5</td>\n",
       "    </tr>\n",
       "    <tr>\n",
       "      <th>3</th>\n",
       "      <td>8</td>\n",
       "      <td>30.0</td>\n",
       "      <td>canada</td>\n",
       "      <td>timmins</td>\n",
       "      <td>1</td>\n",
       "      <td>1567407781</td>\n",
       "      <td>6</td>\n",
       "    </tr>\n",
       "    <tr>\n",
       "      <th>4</th>\n",
       "      <td>8</td>\n",
       "      <td>30.0</td>\n",
       "      <td>canada</td>\n",
       "      <td>timmins</td>\n",
       "      <td>1</td>\n",
       "      <td>1575663937</td>\n",
       "      <td>6</td>\n",
       "    </tr>\n",
       "  </tbody>\n",
       "</table>\n",
       "</div>"
      ],
      "text/plain": [
       "   user_id   age country     city  is_age_missing        isbn  book_rating\n",
       "0        8  30.0  canada  timmins               1  0002005018            5\n",
       "1        8  30.0  canada  timmins               1  0887841740            5\n",
       "2        8  30.0  canada  timmins               1  1552041778            5\n",
       "3        8  30.0  canada  timmins               1  1567407781            6\n",
       "4        8  30.0  canada  timmins               1  1575663937            6"
      ]
     },
     "execution_count": 57,
     "metadata": {},
     "output_type": "execute_result"
    }
   ],
   "source": [
    "# Filled missing values by average age by user.\n",
    "final_user_df = merged_df.merge(age__df, on='user_id', how='left')\n",
    "final_user_df['age'] = final_user_df['age'].fillna(final_user_df['avg_user_age'])\n",
    "\n",
    "# Remove age_user_age column\n",
    "del final_user_df['avg_user_age']\n",
    "\n",
    "# View\n",
    "final_user_df.head()"
   ]
  },
  {
   "cell_type": "code",
   "execution_count": 58,
   "id": "dcfaf493-f972-4956-b878-8e020f86366b",
   "metadata": {},
   "outputs": [
    {
     "data": {
      "text/html": [
       "<div>\n",
       "<style scoped>\n",
       "    .dataframe tbody tr th:only-of-type {\n",
       "        vertical-align: middle;\n",
       "    }\n",
       "\n",
       "    .dataframe tbody tr th {\n",
       "        vertical-align: top;\n",
       "    }\n",
       "\n",
       "    .dataframe thead th {\n",
       "        text-align: right;\n",
       "    }\n",
       "</style>\n",
       "<table border=\"1\" class=\"dataframe\">\n",
       "  <thead>\n",
       "    <tr style=\"text-align: right;\">\n",
       "      <th></th>\n",
       "      <th>user_id</th>\n",
       "      <th>age</th>\n",
       "      <th>country</th>\n",
       "      <th>city</th>\n",
       "      <th>is_age_missing</th>\n",
       "      <th>isbn</th>\n",
       "      <th>book_rating</th>\n",
       "      <th>age_grp</th>\n",
       "    </tr>\n",
       "  </thead>\n",
       "  <tbody>\n",
       "    <tr>\n",
       "      <th>0</th>\n",
       "      <td>8</td>\n",
       "      <td>30.0</td>\n",
       "      <td>canada</td>\n",
       "      <td>timmins</td>\n",
       "      <td>1</td>\n",
       "      <td>0002005018</td>\n",
       "      <td>5</td>\n",
       "      <td>Young Adults</td>\n",
       "    </tr>\n",
       "    <tr>\n",
       "      <th>1</th>\n",
       "      <td>8</td>\n",
       "      <td>30.0</td>\n",
       "      <td>canada</td>\n",
       "      <td>timmins</td>\n",
       "      <td>1</td>\n",
       "      <td>0887841740</td>\n",
       "      <td>5</td>\n",
       "      <td>Young Adults</td>\n",
       "    </tr>\n",
       "    <tr>\n",
       "      <th>2</th>\n",
       "      <td>8</td>\n",
       "      <td>30.0</td>\n",
       "      <td>canada</td>\n",
       "      <td>timmins</td>\n",
       "      <td>1</td>\n",
       "      <td>1552041778</td>\n",
       "      <td>5</td>\n",
       "      <td>Young Adults</td>\n",
       "    </tr>\n",
       "    <tr>\n",
       "      <th>3</th>\n",
       "      <td>8</td>\n",
       "      <td>30.0</td>\n",
       "      <td>canada</td>\n",
       "      <td>timmins</td>\n",
       "      <td>1</td>\n",
       "      <td>1567407781</td>\n",
       "      <td>6</td>\n",
       "      <td>Young Adults</td>\n",
       "    </tr>\n",
       "    <tr>\n",
       "      <th>4</th>\n",
       "      <td>8</td>\n",
       "      <td>30.0</td>\n",
       "      <td>canada</td>\n",
       "      <td>timmins</td>\n",
       "      <td>1</td>\n",
       "      <td>1575663937</td>\n",
       "      <td>6</td>\n",
       "      <td>Young Adults</td>\n",
       "    </tr>\n",
       "  </tbody>\n",
       "</table>\n",
       "</div>"
      ],
      "text/plain": [
       "   user_id   age country     city  is_age_missing        isbn  book_rating  \\\n",
       "0        8  30.0  canada  timmins               1  0002005018            5   \n",
       "1        8  30.0  canada  timmins               1  0887841740            5   \n",
       "2        8  30.0  canada  timmins               1  1552041778            5   \n",
       "3        8  30.0  canada  timmins               1  1567407781            6   \n",
       "4        8  30.0  canada  timmins               1  1575663937            6   \n",
       "\n",
       "        age_grp  \n",
       "0  Young Adults  \n",
       "1  Young Adults  \n",
       "2  Young Adults  \n",
       "3  Young Adults  \n",
       "4  Young Adults  "
      ]
     },
     "execution_count": 58,
     "metadata": {},
     "output_type": "execute_result"
    }
   ],
   "source": [
    "# Create a new column 'age_grp'\n",
    "labels = ['Childern', 'Teens', 'Young Adults', 'Adults', 'Seniors']\n",
    "bins = [4, 12, 18, 35, 60, 100]\n",
    "final_user_df['age_grp'] = pd.cut(final_user_df.age, bins=bins, labels=labels)\n",
    "\n",
    "# View\n",
    "final_user_df.head()"
   ]
  },
  {
   "cell_type": "code",
   "execution_count": 59,
   "id": "e4ebe7ce-e76d-436f-9adc-e40810061a18",
   "metadata": {},
   "outputs": [
    {
     "data": {
      "text/plain": [
       "((273264, 5), (375080, 8))"
      ]
     },
     "execution_count": 59,
     "metadata": {},
     "output_type": "execute_result"
    }
   ],
   "source": [
    "# Shape\n",
    "user_df.shape, final_user_df.shape"
   ]
  },
  {
   "cell_type": "code",
   "execution_count": 60,
   "id": "2f0f239e-eb1e-4876-aaa3-2eb2be24cbb2",
   "metadata": {},
   "outputs": [],
   "source": [
    "# Check for duplicates drop if any.\n",
    "if final_user_df.duplicated().sum():\n",
    "    final_user_df = final_user_df.drop_duplicated(inplace=True)"
   ]
  },
  {
   "cell_type": "code",
   "execution_count": 61,
   "id": "e3b390bd-3b1e-4d06-bb7c-47d81f569f90",
   "metadata": {},
   "outputs": [],
   "source": [
    "# Save datasets\n",
    "final_user_df.to_csv(\"../data/process_data/users_df.csv\", index=False)"
   ]
  },
  {
   "cell_type": "markdown",
   "id": "e254c523-216b-446b-95de-2b0abbeaafef",
   "metadata": {},
   "source": [
    "- *Datasets are clean and saved for further analysis*"
   ]
  }
 ],
 "metadata": {
  "kernelspec": {
   "display_name": "Python 3 (ipykernel)",
   "language": "python",
   "name": "python3"
  },
  "language_info": {
   "codemirror_mode": {
    "name": "ipython",
    "version": 3
   },
   "file_extension": ".py",
   "mimetype": "text/x-python",
   "name": "python",
   "nbconvert_exporter": "python",
   "pygments_lexer": "ipython3",
   "version": "3.9.13"
  }
 },
 "nbformat": 4,
 "nbformat_minor": 5
}
